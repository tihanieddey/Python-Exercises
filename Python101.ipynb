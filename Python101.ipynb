{
  "nbformat": 4,
  "nbformat_minor": 0,
  "metadata": {
    "colab": {
      "provenance": [],
      "include_colab_link": true
    },
    "kernelspec": {
      "name": "python3",
      "display_name": "Python 3"
    },
    "language_info": {
      "name": "python"
    }
  },
  "cells": [
    {
      "cell_type": "markdown",
      "metadata": {
        "id": "view-in-github",
        "colab_type": "text"
      },
      "source": [
        "<a href=\"https://colab.research.google.com/github/tihanieddey/Python-Exercises/blob/main/Python101.ipynb\" target=\"_parent\"><img src=\"https://colab.research.google.com/assets/colab-badge.svg\" alt=\"Open In Colab\"/></a>"
      ]
    },
    {
      "cell_type": "markdown",
      "source": [
        "# Python 101\n",
        "\n",
        "### Objective:\n",
        "This question paper consists of 25 problems designed to test your understanding of <u>input function, output function, literals, variables, and operators</u> in Python. Each problem focuses on performing calculations using basic <u>arithmetic operations</u> without the use of conditional statements or loops.\n",
        "\n",
        "### Format:\n",
        "For each problem, you are required to:<br/>\n",
        "1. Read the input values as specified for the problems that require input.\n",
        "2. For problems where numbers are given explicitly, use those values directly in your calculations.\n",
        "3. Perform the required calculations using the appropriate formulas.\n",
        "4. Print the output in a clear and formatted manner.\n",
        "\n",
        "### Requirements:\n",
        "1. Use meaningful variable names for clarity.\n",
        "2. Ensure your code is well-structured and properly indented.\n",
        "3. Include comments where necessary to explain your logic.\n",
        "\n",
        "### Problems:\n",
        "1. Each problem is worth equal marks.\n",
        "2. Make sure to read each problem carefully and adhere to the instructions provided.\n",
        "3. <b>Do not use any python built in function other than input / print and type casting functions (int, float, bool, str) for this exercise</b>\n",
        "\n",
        "<br/>\n",
        "<hr/>\n",
        "<br/>"
      ],
      "metadata": {
        "id": "88K4xIYJ2HAZ"
      }
    },
    {
      "cell_type": "markdown",
      "source": [
        "**Exercise 1: Print Function**\n",
        "\n",
        "Write a Python program to print the following string in a specific format (see the output).\n",
        "\n",
        "```\n",
        "Twinkle, twinkle, little star,\n",
        "\tHow I wonder what you are!\n",
        "\t\tUp above the world so high,\n",
        "\t\tLike a diamond in the sky.\n",
        "Twinkle, twinkle, little star,\n",
        "\tHow I wonder what you are\n",
        "```\n",
        "\n"
      ],
      "metadata": {
        "id": "E5VsUoZWLUdd"
      }
    },
    {
      "cell_type": "code",
      "source": [
        "print(\"Twinkle, twinkle, little star,\\n\\tHow I wonder what you are!\")\n",
        "print(\"\\t\\tUp above the world so high,\\n\\t\\tLike a diamond in the sky.\")\n",
        "print(\"Twinkle, twinkle, little star,\\n\\tHow I wonder what you are\")"
      ],
      "metadata": {
        "id": "VQH9eSOELiVR",
        "colab": {
          "base_uri": "https://localhost:8080/"
        },
        "outputId": "22138b07-d096-4fdd-b97d-6a68cb40ef01"
      },
      "execution_count": 5,
      "outputs": [
        {
          "output_type": "stream",
          "name": "stdout",
          "text": [
            "Twinkle, twinkle, little star,\n",
            "\tHow I wonder what you are!\n",
            "\t\tUp above the world so high,\n",
            "\t\tLike a diamond in the sky.\n",
            "Twinkle, twinkle, little star,\n",
            "\tHow I wonder what you are\n"
          ]
        }
      ]
    },
    {
      "cell_type": "markdown",
      "source": [
        "**Exercise 2: Input and Print Function**\n",
        "\n",
        "Write a Python program that accepts the user's first and last name and prints them in reverse order with a space between them.\n",
        "\n",
        "Sample Output\n",
        "\n",
        "```\n",
        "Input your First Name: Dany\n",
        "Input your Last Name : Boon\n",
        "\n",
        "Hello  Boon Dany\n",
        "\n",
        "```\n",
        "\n"
      ],
      "metadata": {
        "id": "S0odYwMJL5-k"
      }
    },
    {
      "cell_type": "code",
      "source": [
        "name1 = input(\"Input your first Name: \")\n",
        "name2 = input(\"Input ypur second Name: \")\n",
        "\n",
        "print(\"Hello  \", name2, name1)"
      ],
      "metadata": {
        "id": "vjg4kqewz7U1",
        "colab": {
          "base_uri": "https://localhost:8080/"
        },
        "outputId": "4875a6c6-081b-46e1-bc22-443fe32b9ca5"
      },
      "execution_count": 10,
      "outputs": [
        {
          "output_type": "stream",
          "name": "stdout",
          "text": [
            "Input your first Name: Dany\n",
            "Input ypur second Name: Boon\n",
            "Hello   Boon Dany\n"
          ]
        }
      ]
    },
    {
      "cell_type": "markdown",
      "source": [
        "**Exercise 3: Basic Arithmetic Operations**\n",
        "\n",
        "Write a Python program that does the following:\n",
        "\n",
        "Prompts the user to enter two numbers.\n",
        "Stores these numbers in two variables x and y.\n",
        "Performs and prints the results of addition, subtraction, multiplication, and division of these two numbers.\n",
        "\n",
        "```\n",
        "Input value for x: 15\n",
        "Input value for y : 10\n",
        "\n",
        "Addition: 25\n",
        "Subtraction: 5\n",
        "Multiplication 150\n",
        "Division: 1.5\n",
        "\n",
        "```"
      ],
      "metadata": {
        "id": "k0lMUYCZ2s7t"
      }
    },
    {
      "cell_type": "code",
      "source": [
        "num1 = int(input(\"Input value for x: \"))\n",
        "num2 = int(input(\"Input value for y : \"))\n",
        "\n",
        "print()\n",
        "print(\"Addition: \", num1 + num2)\n",
        "print(\"Subtraction: \", num1 - num2)\n",
        "print(\"Multiplication \", num1 * num2)\n",
        "print(\"Division: \", num1 / num2)"
      ],
      "metadata": {
        "id": "-b2jsb362QGd",
        "colab": {
          "base_uri": "https://localhost:8080/"
        },
        "outputId": "4edbefa0-660c-48ca-8d26-64247fe7a63f"
      },
      "execution_count": 12,
      "outputs": [
        {
          "output_type": "stream",
          "name": "stdout",
          "text": [
            "Input value for x: 15\n",
            "Input value for y : 10\n",
            "\n",
            "Addition:  25\n",
            "Subtraction:  5\n",
            "Multiplication  150\n",
            "Division:  1.5\n"
          ]
        }
      ]
    },
    {
      "cell_type": "markdown",
      "source": [
        "**Exercise 4: Basic Series Problem**\n",
        "\n",
        "Write a Python program that accepts an integer (n) and computes the value of n+nn+nnn.\n",
        "\n",
        "```\n",
        "Sample value of n is 5\n",
        "\n",
        "Result : 615\n",
        "```\n",
        "\n"
      ],
      "metadata": {
        "id": "AyMAwVTIMnS1"
      }
    },
    {
      "cell_type": "code",
      "source": [
        "n = input(\"Sample value of n is \")\n",
        "\n",
        "print(\"Result : \", int(n) + int(n + n) + int(n + n + n))"
      ],
      "metadata": {
        "id": "NOk2uSqyM0Ke",
        "colab": {
          "base_uri": "https://localhost:8080/"
        },
        "outputId": "23347acb-cd39-4214-8a98-b64ae6ab2021"
      },
      "execution_count": 16,
      "outputs": [
        {
          "output_type": "stream",
          "name": "stdout",
          "text": [
            "Sample value of n is 5\n",
            "Result :  615\n"
          ]
        }
      ]
    },
    {
      "cell_type": "markdown",
      "source": [
        "**Exercise 5: Temperature Converter**\n",
        "\n",
        "Write a Python program that:\n",
        "\n",
        "Prompts the user to enter a temperature in Celsius.\n",
        "Converts the temperature to Fahrenheit.\n",
        "Prints the temperature in Fahrenheit.\n",
        "\n",
        "(Hint: The formula to convert Celsius to Fahrenheit is: F = C * 9/5 + 32)"
      ],
      "metadata": {
        "id": "zXjvrX8c2RE4"
      }
    },
    {
      "cell_type": "code",
      "source": [
        "ctemp = int(input(\"Please enter a temperature in Celcius: \"))\n",
        "ftemp = ctemp * (9/5) + 32\n",
        "\n",
        "print(\"Temperature in Fahrenheit is: \", ftemp)"
      ],
      "metadata": {
        "id": "S7evNjDH2UMK",
        "colab": {
          "base_uri": "https://localhost:8080/"
        },
        "outputId": "c28787d6-1174-4f09-d133-94d8fd3ddb2b"
      },
      "execution_count": 18,
      "outputs": [
        {
          "output_type": "stream",
          "name": "stdout",
          "text": [
            "Please enter a temperature in Celcius: 27\n",
            "Temperature in Fahrenheit is:  80.6\n"
          ]
        }
      ]
    },
    {
      "cell_type": "markdown",
      "source": [
        "**Exercise 6: Area and Perimeter of a Rectangle**\n",
        "\n",
        "Write a Python program that:\n",
        "\n",
        "Prompts the user to enter the length and width of a rectangle.\n",
        "Calculates the area and perimeter of the rectangle.\n",
        "Prints the area and perimeter of the rectangle."
      ],
      "metadata": {
        "id": "5JvZykyG2VQ_"
      }
    },
    {
      "cell_type": "code",
      "source": [
        "len = int(input(\"Enter length of a rectangle: \"))\n",
        "wid = int(input(\"Enter width of a rectangle: \"))\n",
        "\n",
        "print(\"Area of the rectangle: \", len * wid)\n",
        "print(\"Perimeter of the rectangle: \", (2 * len) + (2 * wid))"
      ],
      "metadata": {
        "id": "f3__sUit2X_t",
        "colab": {
          "base_uri": "https://localhost:8080/"
        },
        "outputId": "c999df63-d9e5-4945-8ba4-6e8d2ecc47d3"
      },
      "execution_count": 20,
      "outputs": [
        {
          "output_type": "stream",
          "name": "stdout",
          "text": [
            "Enter length of a rectangle: 4\n",
            "Enter width of a rectangle: 2\n",
            "Area of the rectangle:  8\n",
            "Perimeter of the rectangle:  12\n"
          ]
        }
      ]
    },
    {
      "cell_type": "markdown",
      "source": [
        "**Example 7: Volume of a Sphere**\n",
        "\n",
        "A sphere is a three-dimensional solid with no face, no edge, no base and no vertex. It is a round body with all points on its surface equidistant from the center. Prompt the user for <u>Diameter</u> and calculate the volume of a sphere is measured in cubic units.\n",
        "\n",
        "The volume of the sphere is : V = 4/3 × π × r3\n",
        "\n",
        "![sphere.png](data:image/png;base64,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)"
      ],
      "metadata": {
        "id": "mm2wwUDzNT8x"
      }
    },
    {
      "cell_type": "code",
      "source": [
        "import math\n",
        "\n",
        "diam = int(input(\"Enter a diameter of a sphere: \"))\n",
        "r = diam / 2\n",
        "print(\"Volume of the sphere: \", (4/3) * 3.142 * (r * r * r))\n",
        "print(\"Volume of the sphere(using math.pi): \", (4/3) * math.pi * (r * r * r))"
      ],
      "metadata": {
        "id": "2d-PB8WANTdG",
        "colab": {
          "base_uri": "https://localhost:8080/"
        },
        "outputId": "e757017f-2bb4-46b7-c975-2a153f768f80"
      },
      "execution_count": 23,
      "outputs": [
        {
          "output_type": "stream",
          "name": "stdout",
          "text": [
            "Enter a diameter of a sphere: 10\n",
            "Volume of the sphere:  523.6666666666666\n",
            "Volume of the sphere(using math.pi):  523.5987755982989\n"
          ]
        }
      ]
    },
    {
      "cell_type": "markdown",
      "source": [
        "**Exercise 8: Simple Interest Calculator**\n",
        "\n",
        "Write a Python program that:\n",
        "\n",
        "Prompts the user to enter the principal amount, rate of interest, and time in years.\n",
        "Calculates the simple interest amount and print the total amount to be paid.\n",
        "\n",
        "(Hint: The formula to calculate simple interest is: SI = (P * R * T) / 100\n",
        "\n",
        "Please note you suppose to print the total amount which is principle + simple interest)"
      ],
      "metadata": {
        "id": "VjYxX0Pl2Y5a"
      }
    },
    {
      "cell_type": "code",
      "source": [
        "p = int(input(\"Enter principle amount: \"))\n",
        "r = int(input(\"Enter rate of interest: \"))\n",
        "t = int(input(\"Enter time in years: \"))\n",
        "si = (p * r * t) / 100\n",
        "\n",
        "print(\"Total amount including interest: \", p + si)"
      ],
      "metadata": {
        "id": "gtjmqjgS2bYu",
        "colab": {
          "base_uri": "https://localhost:8080/"
        },
        "outputId": "b8cfeecb-8965-452c-d8f0-daa6125e25ea"
      },
      "execution_count": 25,
      "outputs": [
        {
          "output_type": "stream",
          "name": "stdout",
          "text": [
            "Enter principle amount: 1000\n",
            "Enter rate of interest: 5\n",
            "Enter time in years: 2\n",
            "Total amount including interest:  1100.0\n"
          ]
        }
      ]
    },
    {
      "cell_type": "markdown",
      "source": [
        "**Exercise 9: Exponent Operator**\n",
        "\n",
        "Write a program that calculates the result of a number raised to a power using the exponent operator. Prompt the user for a base and an exponent then compute:\n",
        "\n",
        "![image.png](data:image/png;base64,iVBORw0KGgoAAAANSUhEUgAAAL0AAAAlCAYAAAAX4ugeAAAAAXNSR0IArs4c6QAAAARnQU1BAACxjwv8YQUAAAAJcEhZcwAADsMAAA7DAcdvqGQAAAsYSURBVHhe7ZsHjBVVF8cPRWlCqNJBytIFEqRJFSkBkV5D0dAFpISEEtq3QRak9yoYEjqE3luorkpHKSIs0paiVOkLzHd/Z2fWx2P37bKrLOybfzJ5b+7cO3Pn3FP+59z3ElkG4sKFHyGx/enChd/AVXoXfgdX6V34HVyld+F3cJXehd/BVXoXfgdX6V34HVyld+F3cJXehd/B3ZH1U5w9e1bWrFljn72MIkWKSK1ateyzhAXX0/spcubMKc2bN5fff/9d/v77b/niiy/0aNOmjeTJk0e2bdsmDx8+tHu/Hbh//76cPHnSPosartL7Kd59911Jly6dfiZLlkzSp0+vR8aMGeXzzz+XokWLSlhYmN377UBoaKiEhITYZ1HDVXoXEcCzr1+/XpIkSSJ58+aVp0+f2lciB8z47t278uTJEz1u374tz58/t6+Gg3vQTj9PJo1X5nn05zrjPRHZONo4Zwxjva+tW7dO7xsdkvzPwP7uws+Aomzfvl29PZ59//79yvXLlCkjuXPnVs85efJk6datmyrTe++9J02bNpW9e/dKpkyZdCzXoBTPnj2TU6dOyfjx46VYsWIaNbjXtGnTJGvWrHL8+HFZvXq1lCxZUrZu3Sp9+/aVP/74Q65cuaLKPXr0aJ2DM27UqFFKwXbt2iV79uyRHDlyyIQJE2TSpEmq8IzZsWOH/Pjjj1KiRAlZu3atbNy4UefM+KRJk0r27NntN30RCULpsXZ4KR7gnXfesVtdRAdH6VHo999/X86dOycPHjyQ8uXL63UUsEqVKnrtwoUL8uGHH6qC9enTR3LlyiWFChXSnIDcoGbNmqq0KCMJMsodFBSkeQLjAgIC1CgOHjwoLVu21HU6f/68Gk2BAgXUcFDm/PnzqwHUrl1b50F+sXTpUilVqpR88sknmms0adJEKlWqpPNbvny5VKtWTa8zfz47dOgQpcIDn/Rm5syZepM0adLowUvVq1dPP2n/5ptvVBjxCSz8gw8+UE/A9zcJ3vLj+PTTT6Vu3brqSevUqSPfffedKlp8AgVBiVBGlA7ghY8ePSqJEiXSNQezZ8/WfrR5AjoEaEfZT5w4IUeOHFHdIF9wQKTg2qNHj/Q8Q4YML1wH169fl8OHD8ucOXOkV69eMnjwYLlx40YEbUmZMqXKMS7wqfSdO3eWAwcOyIABAyRfvnyyZMkStWJCFSEORatevbpamydfe50g6frhhx/k448/tlv+AYLavHnzS3zxdcFTfng7vByeFe6JlxszZowsXLhQ2rdvr4sd30iRIoXKE1y7di1iTR2OzxwvX76sbb4AXYptxIWWML579+5KZyZOnCiLFi1SY4opWG8MNipEm8hivYkTJ1YL87RKBESYqVq1qnz77bcauuILzIXDGzdv3pSffvpJ+WZ8wZFfZKAW3rp1a00eN23aZLfGP4g88G48MYpPBC1YsKAq4siRI18yUGgJoC8eHgrEgaGQbDrXGFe6dOlI18oBVAoHhj45RoeThUZFBwyGtUbpz5w5Y7e+jDhVb/AAGMNvv/0mp0+ftlvfHCCoW7du2WdvJgj5gITudYJkD+5MkkgCSwLKMWzYMKVfeMq//vpLoxU0NnXq1GoErDNtGzZssO8karCrVq2S77//Xo4dOya9e/fW0me/fv2Uj3NtxowZqsQkwozFe+/evVtWrlypDILv9IOzd+3aVZWWJBhmAd9Hz6ZMmaIMY8GCBbJv3z6lhlChWbNmaWSqUKGCbNmyRe8JfYwSZiLRwli3ZazPMi9st4TDJI9Wx44drY8++sgyXM1u/QeGu1kmu7bmzZtnGcHquSeM5VvGo1jG01kmCbF++eUXyyRXVlhYmGWU1TLWbhnha5uxYG27dOmSZby3PtuB4XxWgwYNLCM8u8WyjCFa9evXt7766ivLhGTt8/jxY/vq60VU8uM9AwMDLePxreDgYLs1HMZDWmZhVXZGIfTcG4w3SmYtW7bM+vnnn62QkBArNDTUvhoOQ/EsQ6ms+fPnq3yR478FExGsnj176tyR7b179+wrL4L22Mie+3O8CnhOdGNi7enJ/Al7eAmSDTJ5T1y8eFGMwmlCVKNGDeXdXbp0iQiNlJew0OLFi4sxGrVokhdCE4nL0KFDtSIwd+5cbSOEYukkVXgSX54RL4bXIEzjMcyCi1EenVN8gcoSFSYoFwdywJPt3LlTP8uWLWv3FE0AGzdurEkfXtcspFZI8G4OqJJQ9iNvoXoBhUIu5AoO8Nbt2rXTZ1euXFkWL16s+QVy+bcBD0+VKpV99iJo5/qrIira6gs8J7oxSe3PaGE8rIwYMUIzZ3gaCRkLQmjLnDmz3SscKOjYsWM1+YX3Q4Patm2r/Bpl5DthrFGjRsrhwJdffqnhEXA/kpgsWbJo2AIIbtCgQVreIrnxBZ779ddfa80W8D0mwiNsGq9pn0UP5jJkyJAIiuILGDLvzi6oA5Sa0hzz9ayIoMjQsjt37mhZjooPHBeZ4lygGVA3+CvcmXejX6dOnew7iPz555+6XlSIKDYAE5W1nAelievvaqjAODQCysGaU1J8K2B7fJ+ILDyb5MIyL2mNGzdOw6wnDM+yAgIClLY4MN7GCgoK0nBovJTVv39/yyyIZTy8UhbjzTUs0c8Bz6W/Z7iCwnjPJTJ6wxjGeo+PD/iiN8gPemOipt0aLivom6dcvd8bGTPO8G397lAIh0Yge9aAaw6Qg0lGdT7+jFjTGyoPhGCSIcpynjALI1evXtUdMydBwnMnT55cKlasqJ4Jj0NZq1WrVlK4cGGlQL/++utLNeCEDKoNRMJs2bJpDRyZAWSAJ50+fbomfmwGUU3xBLuexqBl6tSpSl3Y/GEXE9oJDH/XzxUrVkSsAckkFZVXKf8lRMSpesNWtPEwuhPmCSfcf/bZZ8ozPQ8WGd5FSKe+T+0abk/YHzhw4H+22cU8fZWxACHa4dwxOeDV8OW4ANqGvKiUwPnBoUOHpGHDhion8hFoDU7BExgMdAaKRMmTfAnDIXcxzkzvyb2bNWv20hok1J8MxxRxUnoHJKsI2gE7tiSn3saAF6LmigLileCseKgWLVqox2KRHR4eFWJbcyfxZaPKF8gfmF9MD3i1oSD26NiBZ5IvUeKjLEjSTl7BNj/Jq/eOJREAZ0GJj3Jg2rRpdZeUYkJgYKCWj+lTrlw5zQ3g9p4wFEf7+DOiVXqUGW/G4anYAE8PUG4EjLei2sKCEZYJrSyoA5IxKAyVBpTQc9eMOizjSNIc4K3YAaR6AViw4ODgSOfiDQyI6MEYDIV7oFi+wM8ZUKCYHmy0eCvlqwB5QWGo5JDIk7g7IOo4Bs7cHVnhOBjH+1NMcKIDlIhkFqoEjYT+sAbUw3EuDigmROdYEjp8/nOK347gTShLAn71hgfHo6AgKBTf2VZnU4Nwz8JRMWBxqFZwDxSERYHLs/HA9+HDh6sXwnCcTQ/GURFyeD0RxCS8WiHgvjyPnUHKcCg0mx9cM4mZKgVtUCp+6IQHxBNTuaHCgRHw3akWvQ54yw8jpkSLUlLNgcoxX0q7KKnz3pRcKS0iL/g3cqXKw/0Y06NHD61wQQtxIFR0kA1VNeTlGDeGgxNiHajgEGH5ARfVM+iRvyLOfxfE6+KNUVCUjgTXc9sd5UfYJK1OHZdH4r1YfBaG7yhEZAtBX8ebEf6hEyxwVP294Tw/pv3fFDjvjXwpEyNTJ+LyHsgBI6EdZfeUrzegTMgAI+Lwd7j/kXXhd/hXElkXLt4muErvwu/gKr0Lv4Or9C78Dq7Su/A7uErvws8g8n/CikMLWC37mwAAAABJRU5ErkJggg==)\n"
      ],
      "metadata": {
        "id": "tu1jEQg_vxKf"
      }
    },
    {
      "cell_type": "code",
      "source": [
        "base = int(input(\"Enter base: \"))\n",
        "exp = int(input(\"Enter exponent: \"))\n",
        "\n",
        "print(\"Result exponent of the base: \", base ** exp)"
      ],
      "metadata": {
        "id": "Z-wkLaZUvvSH",
        "colab": {
          "base_uri": "https://localhost:8080/"
        },
        "outputId": "90f21f46-7874-4ed3-e2c2-6dd9b77a704b"
      },
      "execution_count": 26,
      "outputs": [
        {
          "output_type": "stream",
          "name": "stdout",
          "text": [
            "Enter base: 3\n",
            "Enter exponent: 3\n",
            "Result exponent of the base:  27\n"
          ]
        }
      ]
    },
    {
      "cell_type": "markdown",
      "source": [
        "**Exercise 10: Swapping Two Variables**\n",
        "\n",
        "Write a Python program that:\n",
        "\n",
        "Prompts the user to enter two numbers.\n",
        "Swaps the values of the two variables.\n",
        "Prints the values before and after swapping."
      ],
      "metadata": {
        "id": "hyNTbeMN2cYD"
      }
    },
    {
      "cell_type": "code",
      "source": [
        "num1 = int(input(\"Enter first number: \"))\n",
        "num2 = int(input(\"Enter second number: \"))\n",
        "\n",
        "print(\"\\nBefore swapping:\")\n",
        "print(\"First number: \", num1, \"\\nSecond number: \", num2)\n",
        "\n",
        "temp = num1\n",
        "num1 = num2\n",
        "num2 = temp\n",
        "\n",
        "print(\"\\nAfter swapping: \")\n",
        "print(\"First number: \", num1, \"\\nSecond number: \", num2)"
      ],
      "metadata": {
        "id": "OsNKfn1Y2e4x",
        "colab": {
          "base_uri": "https://localhost:8080/"
        },
        "outputId": "7348fb80-357c-44ce-be71-83668c10e15b"
      },
      "execution_count": 30,
      "outputs": [
        {
          "output_type": "stream",
          "name": "stdout",
          "text": [
            "Enter first number: 2\n",
            "Enter second number: 3\n",
            "\n",
            "Before swapping:\n",
            "First number:  2 \n",
            "Second number:  3\n",
            "\n",
            "After swapping: \n",
            "First number:  3 \n",
            "Second number:  2\n"
          ]
        }
      ]
    },
    {
      "cell_type": "markdown",
      "source": [
        "**Exercise 11: Square and Cube**\n",
        "\n",
        "Write a Python program that:\n",
        "\n",
        "Prompts the user to enter a number.\n",
        "Calculates the square and cube of the number.\n",
        "Prints the square and cube of the entered number.\n",
        "\n",
        "\n",
        "```\n",
        "Enter a number givennumber 3\n",
        "Square of 3:  9\n",
        "Cube of 3: 27\n",
        "```\n",
        "\n",
        "\n",
        "\n",
        "\n",
        "\n",
        "\n",
        "\n"
      ],
      "metadata": {
        "id": "uQKP9hMA2ksS"
      }
    },
    {
      "cell_type": "code",
      "source": [
        "num = int(input(\"Enter a number givennumber \"))\n",
        "print(\"Square of\", num, \": \", num ** 2)\n",
        "print(\"Cube of\", num, \": \", num ** 3)"
      ],
      "metadata": {
        "id": "-03LSJtR4e_8",
        "colab": {
          "base_uri": "https://localhost:8080/"
        },
        "outputId": "5a463587-3dc0-42b4-eb54-1ced116ef9cc"
      },
      "execution_count": 32,
      "outputs": [
        {
          "output_type": "stream",
          "name": "stdout",
          "text": [
            "Enter a number givennumber 3\n",
            "Square of 3 :  9\n",
            "Cube of 3 :  27\n"
          ]
        }
      ]
    },
    {
      "cell_type": "markdown",
      "source": [
        "**Exercise 12: Calculate BMI**\n",
        "\n",
        "Write a Python program that:\n",
        "\n",
        "Prompts the user to enter their weight in kilograms and height in meters.\n",
        "Calculates the Body Mass Index (BMI).\n",
        "Prints the BMI.\n",
        "\n",
        "Hint: The formula to calculate BMI is: BMI = weight / (height * height)\n"
      ],
      "metadata": {
        "id": "qTSAl9Hw4iiL"
      }
    },
    {
      "cell_type": "code",
      "source": [
        "weight = int(input(\"Enter the weight in kg: \"))\n",
        "height = float(input(\"Enter the height in meter: \"))\n",
        "\n",
        "print(\"BMI is: \", weight / (height * height))"
      ],
      "metadata": {
        "id": "JSsnmqY64k4D",
        "colab": {
          "base_uri": "https://localhost:8080/"
        },
        "outputId": "f74b5f46-ffab-4b14-9620-e5d3e228a81d"
      },
      "execution_count": 36,
      "outputs": [
        {
          "output_type": "stream",
          "name": "stdout",
          "text": [
            "Enter the weight in kg: 55\n",
            "Enter the height in meter: 1.52\n",
            "BMI is:  23.80540166204986\n"
          ]
        }
      ]
    },
    {
      "cell_type": "markdown",
      "source": [
        "**Exercise 13: Compound Interest Calculator**\n",
        "\n",
        "Write a Python program that:\n",
        "\n",
        "Prompts the user to enter the principal amount, rate of interest, time in years, and number of times interest is compounded per year. Calculates the compound interest. Prints the compound interest.\n",
        "\n",
        "![image.png](data:image/png;base64,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)\n",
        "\n",
        "where\n",
        "A is the amount,\n",
        "P is the principal amount,\n",
        "R is the annual interest rate,\n",
        "t is the time the money is invested for, and\n",
        "n is the number of times interest is compounded per year)"
      ],
      "metadata": {
        "id": "iafLGivo4nJ9"
      }
    },
    {
      "cell_type": "code",
      "source": [
        "p = int(input(\"Enter principal amount: \"))\n",
        "r = int(input(\"Enter rate of interest: \"))\n",
        "t = int(input(\"Enter time in years: \"))\n",
        "n = int(input(\"Enter number of times interest: \"))\n",
        "\n",
        "amount = p * (1 + ((r/100) /n)) ** (n * t)\n",
        "\n",
        "print(\"Compound interest calculated: \", amount - p)"
      ],
      "metadata": {
        "id": "JsCzUxG25260",
        "colab": {
          "base_uri": "https://localhost:8080/"
        },
        "outputId": "9d8b3aad-2e1e-4da8-c434-f497b1fcdaab"
      },
      "execution_count": 40,
      "outputs": [
        {
          "output_type": "stream",
          "name": "stdout",
          "text": [
            "Enter principal amount: 1000\n",
            "Enter rate of interest: 5\n",
            "Enter time in years: 2\n",
            "Enter number of times interest: 4\n",
            "Compound interest calculated:  104.4861011814121\n"
          ]
        }
      ]
    },
    {
      "cell_type": "markdown",
      "source": [
        "**Exercise 14: Digital Root**\n",
        "\n",
        "Compute the digital root of 97865. The digital root is the single-digit value obtained by iteratively summing the digits of the number until a single digit is obtained.\n",
        "\n",
        "<u>Expected output:</u><br/>\n",
        "<b>Digital Root of 97865 is 8</b>\n",
        "\n"
      ],
      "metadata": {
        "id": "Bb1AM1tZ9co_"
      }
    },
    {
      "cell_type": "code",
      "source": [
        "#Digital root\n",
        "#Total sum of every single digit of the number until single digit obtained\n",
        "#Also if the number is divisible by 0 or 9, the digital root of said number\n",
        "#would be 0 or 9\n",
        "#Else, the digital root of the number would be the remainder of modulo 9\n",
        "\n",
        "def digital_root(n):\n",
        "  if n == 0:\n",
        "    return 0\n",
        "  elif n % 9 == 0:\n",
        "    return 9\n",
        "  else:\n",
        "    return n % 9\n",
        "\n",
        "print(\"Digital root of 97865 is: \", digital_root(97865))"
      ],
      "metadata": {
        "id": "xPPr30qD99nZ",
        "colab": {
          "base_uri": "https://localhost:8080/"
        },
        "outputId": "a0e8bca6-767e-4a90-c725-ad7586b3dd82"
      },
      "execution_count": 43,
      "outputs": [
        {
          "output_type": "stream",
          "name": "stdout",
          "text": [
            "Digital root of 97865 is:  8\n"
          ]
        }
      ]
    },
    {
      "cell_type": "markdown",
      "source": [
        "**Exercise 15: Perimeter of a Rectangle**\n",
        "\n",
        "Prompt the use for length and width. Calculates the perimeter of a rectangle. Use the formula:\n",
        "\n",
        "![image.png](data:image/png;base64,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)"
      ],
      "metadata": {
        "id": "b9ilNd-s-LW6"
      }
    },
    {
      "cell_type": "code",
      "source": [
        "len = int(input(\"Enter length: \"))\n",
        "wid = int(input(\"Enter width: \"))\n",
        "print(\"Perimeter: \", 2 * (len + wid))"
      ],
      "metadata": {
        "id": "NIqJttlx-i0F",
        "colab": {
          "base_uri": "https://localhost:8080/"
        },
        "outputId": "3dce0b82-997f-4032-dcce-39cce1db8c6a"
      },
      "execution_count": 44,
      "outputs": [
        {
          "output_type": "stream",
          "name": "stdout",
          "text": [
            "Enter length: 4\n",
            "Enter width: 2\n",
            "Perimeter:  12\n"
          ]
        }
      ]
    },
    {
      "cell_type": "markdown",
      "source": [
        "**Exercise 16: Percent Change Calculation**\n",
        "\n",
        "Write a program that calculates the percent change between two values. Given the original value and the new value, use the formula:\n",
        "\n",
        "![image.png](data:image/png;base64,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)"
      ],
      "metadata": {
        "id": "wz8US3RI-lBD"
      }
    },
    {
      "cell_type": "code",
      "source": [
        "val = int(input(\"Enter original value: \"))\n",
        "newval = int(input(\"Enter new value: \"))\n",
        "pchange = ((newval - val) / val) * 100\n",
        "\n",
        "print(pchange)"
      ],
      "metadata": {
        "id": "n1Q0_1lS_Irl",
        "colab": {
          "base_uri": "https://localhost:8080/"
        },
        "outputId": "b5784e26-1474-4224-e4cf-4f53d32fb3b4"
      },
      "execution_count": 47,
      "outputs": [
        {
          "output_type": "stream",
          "name": "stdout",
          "text": [
            "Enter original value: 50\n",
            "Enter new value: 60\n",
            "20.0\n"
          ]
        }
      ]
    },
    {
      "cell_type": "markdown",
      "source": [
        "**Exercise 17: Find Number of Full Weeks and Extra Days**\n",
        "\n",
        "Number of days 18, determine how many full weeks and extra days that number represents.\n",
        "\n",
        "Result: 2 weeks 4 days"
      ],
      "metadata": {
        "id": "dp7Yh2Aj_UY8"
      }
    },
    {
      "cell_type": "code",
      "source": [
        "n = 18\n",
        "\n",
        "weeks = n / 7\n",
        "days = n % 7\n",
        "\n",
        "print(\"Result:\", int(weeks), \"weeks\", days, \"days\")"
      ],
      "metadata": {
        "id": "rM3fRPOE_12h",
        "colab": {
          "base_uri": "https://localhost:8080/"
        },
        "outputId": "f0dad289-ab77-48f6-d665-a75616e6eb73"
      },
      "execution_count": 50,
      "outputs": [
        {
          "output_type": "stream",
          "name": "stdout",
          "text": [
            "Result: 2 weeks 4 days\n"
          ]
        }
      ]
    },
    {
      "cell_type": "markdown",
      "source": [
        "**Exercise 18: Convert Seconds to Hours, Minutes and Seconds**\n",
        "\n",
        "Convert 3665 seconds into hours, minutes, and seconds.\n",
        "\n",
        "Result: 1 Hours 1 Minutes 5 Seconds"
      ],
      "metadata": {
        "id": "479yM1mRALJ3"
      }
    },
    {
      "cell_type": "code",
      "source": [
        "n = 3665\n",
        "\n",
        "hours = n / 3600\n",
        "mins = (n / 60) - (int(hours) * 60)\n",
        "sec = n % 60\n",
        "\n",
        "print(int(hours), \"Hours\", int(mins), \"Minutes\", int(sec), \"Seconds\")"
      ],
      "metadata": {
        "id": "U0D6PdLmAqDX",
        "colab": {
          "base_uri": "https://localhost:8080/"
        },
        "outputId": "90c408d3-0df6-4eac-fb77-5f1212428286"
      },
      "execution_count": 54,
      "outputs": [
        {
          "output_type": "stream",
          "name": "stdout",
          "text": [
            "1 Hours 1 Minutes 5 Seconds\n"
          ]
        }
      ]
    },
    {
      "cell_type": "markdown",
      "source": [
        "**Exercise 19: Speed Calculation**\n",
        "\n",
        "Write a program that calculates the speed of an object given the distance traveled and the time taken. Use the formula:\n",
        "\n",
        "![image.png](data:image/png;base64,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)"
      ],
      "metadata": {
        "id": "kfU0RAE-xX5-"
      }
    },
    {
      "cell_type": "code",
      "source": [
        "dist = int(input(\"Enter the distance traveled: \"))\n",
        "time = int(input(\"Enter time taken: \"))\n",
        "\n",
        "print(\"Total speed: \", dist / time)"
      ],
      "metadata": {
        "id": "DOlnwpE1xYnL",
        "colab": {
          "base_uri": "https://localhost:8080/"
        },
        "outputId": "5cf53b8a-53be-46a7-bfd0-949f97a4a1cf"
      },
      "execution_count": 55,
      "outputs": [
        {
          "output_type": "stream",
          "name": "stdout",
          "text": [
            "Enter the distance traveled: 40\n",
            "Enter time taken: 5\n",
            "Total speed:  8.0\n"
          ]
        }
      ]
    },
    {
      "cell_type": "markdown",
      "source": [
        "**Exercise 20: Total Cost Calculation**\n",
        "\n",
        "Write a program that calculates the total cost of a purchase including tax. Given the price before tax and the tax rate, use the formula:\n",
        "\n",
        "![image.png](data:image/png;base64,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)"
      ],
      "metadata": {
        "id": "mq_Jj3MixuvI"
      }
    },
    {
      "cell_type": "code",
      "source": [
        "price = int(input(\"Enter price before tax: \"))\n",
        "tax_rate = int(input(\"Enter tax rate: \"))\n",
        "tax = price * (tax_rate / 100)\n",
        "\n",
        "total_cost = price + tax\n",
        "\n",
        "print(\"Total cost\", total_cost)"
      ],
      "metadata": {
        "id": "HkZWsFkOySoQ",
        "colab": {
          "base_uri": "https://localhost:8080/"
        },
        "outputId": "a0ffd077-48bc-4fd3-f25b-4bd198d9f40b"
      },
      "execution_count": 56,
      "outputs": [
        {
          "output_type": "stream",
          "name": "stdout",
          "text": [
            "Enter price before tax: 10000\n",
            "Enter tax rate: 3\n",
            "Total cost 10300.0\n"
          ]
        }
      ]
    },
    {
      "cell_type": "markdown",
      "source": [
        "**Exercise 21: Weighted Average Calculation**\n",
        "\n",
        "Write a program that calculates the weighted average of three test scores given the scores and their respective weights. Use the formula:\n",
        "\n",
        "![{863274BA-A573-4C96-897E-DFD4B4694C90}.png](data:image/png;base64,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)"
      ],
      "metadata": {
        "id": "xuNEZuN4yTxM"
      }
    },
    {
      "cell_type": "code",
      "source": [
        "s1 = int(input(\"Enter first test scores: \"))\n",
        "w1 = int(input(\"Enter first respected weight: \"))\n",
        "s2 = int(input(\"Enter second test scores: \"))\n",
        "w2 = int(input(\"Enter second respected weight: \"))\n",
        "s3 = int(input(\"Enter third test scores: \"))\n",
        "w3 = int(input(\"Enter third respected weight: \"))\n",
        "\n",
        "w_avg = ((s1 * w1) + (s2 * w2) + (s3 * w3)) / (w1 + w2 + w3)\n",
        "print(w_avg)"
      ],
      "metadata": {
        "id": "DHXilP-VyU6S",
        "colab": {
          "base_uri": "https://localhost:8080/"
        },
        "outputId": "dfe5f1eb-3095-4cff-fc18-10b9d0f2aa5b"
      },
      "execution_count": 57,
      "outputs": [
        {
          "output_type": "stream",
          "name": "stdout",
          "text": [
            "Enter first test scores: 70\n",
            "Enter first respected weight: 43\n",
            "Enter second test scores: 80\n",
            "Enter second respected weight: 45\n",
            "Enter third test scores: 90\n",
            "Enter third respected weight: 58\n",
            "81.02739726027397\n"
          ]
        }
      ]
    },
    {
      "cell_type": "markdown",
      "source": [
        "**Exercise 22: Area of a Trapezoid**\n",
        "\n",
        "Write a program that calculates the area of a trapezoid given the lengths of the two parallel sides a and b and the height h. Use the formula:\n",
        "\n",
        "![{D5BC0AAE-422F-4D0E-AC15-5F2D7CD1C8CC}.png](data:image/png;base64,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)"
      ],
      "metadata": {
        "id": "QbmDZ-NNysYL"
      }
    },
    {
      "cell_type": "code",
      "source": [
        "a = int(input(\"Enter sides a: \"))\n",
        "b = int(input(\"Enter sides b: \"))\n",
        "h = int(input(\"Enter height h: \"))\n",
        "area = ((a + b) * h) / 2\n",
        "\n",
        "print(area)"
      ],
      "metadata": {
        "id": "eRUvo-AK0IuO",
        "colab": {
          "base_uri": "https://localhost:8080/"
        },
        "outputId": "590599f9-f16b-4d3e-f4d8-47360854f485"
      },
      "execution_count": 58,
      "outputs": [
        {
          "output_type": "stream",
          "name": "stdout",
          "text": [
            "Enter sides a: 4\n",
            "Enter sides b: 5\n",
            "Enter height h: 3\n",
            "13.5\n"
          ]
        }
      ]
    },
    {
      "cell_type": "markdown",
      "source": [
        "**Exercise 23: Convert 97409 to Binary**\n",
        "\n",
        "Write a Python program that:\n",
        "\n",
        "Converts the given integer 97409 to its binary representation.\n",
        "Prints the binary representation."
      ],
      "metadata": {
        "id": "ddxP9dXd6Kat"
      }
    },
    {
      "cell_type": "code",
      "source": [
        "binary_str = ''\n",
        "num = 97409\n",
        "temp = num\n",
        "\n",
        "while num > 0:\n",
        "  binary_str = str(num % 2) + binary_str\n",
        "  num //= 2\n",
        "\n",
        "binary = binary_str if binary_str else '0'\n",
        "\n",
        "print(binary)\n",
        "print(bin(temp))"
      ],
      "metadata": {
        "id": "LdJKHSSW6ty5",
        "colab": {
          "base_uri": "https://localhost:8080/"
        },
        "outputId": "5ef1efac-7401-475d-a4c6-7a4eab2828d3"
      },
      "execution_count": 61,
      "outputs": [
        {
          "output_type": "stream",
          "name": "stdout",
          "text": [
            "10111110010000001\n",
            "0b10111110010000001\n"
          ]
        }
      ]
    },
    {
      "cell_type": "markdown",
      "source": [
        "**Exercise 24: Convert 1011 to Decimal**\n",
        "\n",
        "Write a Python program that:\n",
        "\n",
        "Converts the given binary 1011 to its decimal representation. Prints the decimal representation."
      ],
      "metadata": {
        "id": "e_VISMqg6327"
      }
    },
    {
      "cell_type": "code",
      "source": [
        "bin = '1011'\n",
        "dec = 0\n",
        "\n",
        "for digit in bin:\n",
        "  dec = (dec * 2) + int(digit)\n",
        "\n",
        "print(dec)"
      ],
      "metadata": {
        "id": "xFh3wWwW7OiO",
        "colab": {
          "base_uri": "https://localhost:8080/"
        },
        "outputId": "df0de4c8-1d8f-4f75-a37e-66412938291c"
      },
      "execution_count": 63,
      "outputs": [
        {
          "output_type": "stream",
          "name": "stdout",
          "text": [
            "11\n"
          ]
        }
      ]
    },
    {
      "cell_type": "code",
      "source": [
        "bin = 1011\n",
        "n = 0\n",
        "dec = 0\n",
        "\n",
        "while bin > 0:\n",
        "  dec = dec + ((2 ** n) * (bin % 10))\n",
        "  bin //= 10\n",
        "  n = n + 1\n",
        "\n",
        "print(dec)"
      ],
      "metadata": {
        "colab": {
          "base_uri": "https://localhost:8080/"
        },
        "id": "_h_yOhjQtR9j",
        "outputId": "651ec529-dd39-4127-8e94-e8a862906428"
      },
      "execution_count": 65,
      "outputs": [
        {
          "output_type": "stream",
          "name": "stdout",
          "text": [
            "11\n"
          ]
        }
      ]
    },
    {
      "cell_type": "markdown",
      "source": [
        "**Exercise 25: Arithmetic Mean Calculation**\n",
        "\n",
        "Write a program that calculates the arithmetic mean of three numbers a, b, and\n",
        "c. Use the formula:\n",
        "\n",
        "![{37959DD1-72AE-4672-87B5-216F2601D773}.png](data:image/png;base64,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)"
      ],
      "metadata": {
        "id": "pHqodOOzzTiv"
      }
    },
    {
      "cell_type": "code",
      "source": [
        "a = int(input(\"Enter first number: \"))\n",
        "b = int(input(\"Enter second number: \"))\n",
        "c = int(input(\"Enter third number: \"))\n",
        "\n",
        "mean = (a + b + c) / 3\n",
        "\n",
        "print(mean)"
      ],
      "metadata": {
        "id": "0CgXMtxFzhfF",
        "colab": {
          "base_uri": "https://localhost:8080/"
        },
        "outputId": "5e3e3c48-f17f-4494-daf4-acf5aeaee768"
      },
      "execution_count": 66,
      "outputs": [
        {
          "output_type": "stream",
          "name": "stdout",
          "text": [
            "Enter first number: 3\n",
            "Enter second number: 4\n",
            "Enter third number: 5\n",
            "4.0\n"
          ]
        }
      ]
    }
  ]
}