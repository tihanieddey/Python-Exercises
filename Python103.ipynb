{
  "nbformat": 4,
  "nbformat_minor": 0,
  "metadata": {
    "colab": {
      "provenance": [],
      "include_colab_link": true
    },
    "kernelspec": {
      "name": "python3",
      "display_name": "Python 3"
    },
    "language_info": {
      "name": "python"
    }
  },
  "cells": [
    {
      "cell_type": "markdown",
      "metadata": {
        "id": "view-in-github",
        "colab_type": "text"
      },
      "source": [
        "<a href=\"https://colab.research.google.com/github/tihanieddey/Python-Exercises/blob/main/Python103.ipynb\" target=\"_parent\"><img src=\"https://colab.research.google.com/assets/colab-badge.svg\" alt=\"Open In Colab\"/></a>"
      ]
    },
    {
      "cell_type": "markdown",
      "source": [
        "# This exercise is to test your knowledge in\n",
        "\n",
        "1.   For Loop\n",
        "2.   While Loop\n",
        "\n"
      ],
      "metadata": {
        "id": "sh59bu-cmHQf"
      }
    },
    {
      "cell_type": "markdown",
      "source": [
        "**Problem 1**\n",
        "\n",
        "Print first 10 natural numbers using while loop"
      ],
      "metadata": {
        "id": "NUBr3r3Er9Ub"
      }
    },
    {
      "cell_type": "code",
      "execution_count": null,
      "metadata": {
        "id": "J-YS3jigr6bo"
      },
      "outputs": [],
      "source": []
    },
    {
      "cell_type": "markdown",
      "source": [
        "**Problem 2**\n",
        "\n",
        "Print first 10 prime numbers using for loop"
      ],
      "metadata": {
        "id": "VSmefGGDsDr0"
      }
    },
    {
      "cell_type": "code",
      "source": [],
      "metadata": {
        "id": "xnXhQAK7sMRY"
      },
      "execution_count": null,
      "outputs": []
    },
    {
      "cell_type": "markdown",
      "source": [
        "**Problem 3**\n",
        "\n",
        "Get number of items as input and generate that many ADAM Numbers"
      ],
      "metadata": {
        "id": "9TXi2WCNsNTg"
      }
    },
    {
      "cell_type": "code",
      "source": [],
      "metadata": {
        "id": "F7fhGKvxsRyk"
      },
      "execution_count": null,
      "outputs": []
    },
    {
      "cell_type": "markdown",
      "source": [
        "**Problem 4**\n",
        "\n",
        "Get number of items as input and generate that many Armstrong Numbers"
      ],
      "metadata": {
        "id": "1NtR4H83sWRd"
      }
    },
    {
      "cell_type": "code",
      "source": [],
      "metadata": {
        "id": "kTHyEZhosohS"
      },
      "execution_count": null,
      "outputs": []
    },
    {
      "cell_type": "markdown",
      "source": [
        "**Problem 5**\n",
        "\n",
        "Write a program to print the following pattern using a loop.\n",
        "\n",
        "o\n",
        "\n",
        "oo\n",
        "\n",
        "ooo\n",
        "\n",
        "oooo\n",
        "\n",
        "ooooo"
      ],
      "metadata": {
        "id": "YSye6ju2s4Rd"
      }
    },
    {
      "cell_type": "code",
      "source": [],
      "metadata": {
        "id": "UY1ml3TotBI7"
      },
      "execution_count": null,
      "outputs": []
    },
    {
      "cell_type": "markdown",
      "source": [
        "**Problem 6**\n",
        "\n",
        "Write a program to print the following pattern using a loop\n",
        "\n",
        "1\n",
        "\n",
        "1 2\n",
        "\n",
        "1 2 3\n",
        "\n",
        "1 2 3 4\n",
        "\n",
        "1 2 3 4 5"
      ],
      "metadata": {
        "id": "1SkSXbQbtUEW"
      }
    },
    {
      "cell_type": "code",
      "source": [],
      "metadata": {
        "id": "tRDo_Wa7tfpE"
      },
      "execution_count": null,
      "outputs": []
    },
    {
      "cell_type": "markdown",
      "source": [
        "**Problem 7**\n",
        "\n",
        "Get a number as input and calculate the sum of all numbers from 1 to the given number."
      ],
      "metadata": {
        "id": "WWKQLhpptmeb"
      }
    },
    {
      "cell_type": "code",
      "source": [],
      "metadata": {
        "id": "ps0pUcEDtzkb"
      },
      "execution_count": null,
      "outputs": []
    },
    {
      "cell_type": "markdown",
      "source": [
        "**Problem 8**\n",
        "\n",
        "Write a python program that takes few numbers as command line argument. Use a loop to display all elements. Use another loop to display all elements in the even position. Use another loop to display all elements in the odd position."
      ],
      "metadata": {
        "id": "S4OA1NOB1EBt"
      }
    },
    {
      "cell_type": "code",
      "source": [],
      "metadata": {
        "id": "3bGUGiBm5Ab-"
      },
      "execution_count": null,
      "outputs": []
    },
    {
      "cell_type": "markdown",
      "source": [
        "**Problem 9**\n",
        "\n",
        "Write a python program that takes few numbers as command line argument. Find the average of those numbers."
      ],
      "metadata": {
        "id": "DAgEW9F75Jf2"
      }
    },
    {
      "cell_type": "code",
      "source": [],
      "metadata": {
        "id": "p_MV-MR_5Tfi"
      },
      "execution_count": null,
      "outputs": []
    },
    {
      "cell_type": "markdown",
      "source": [
        "**Problem 10**\n",
        "\n",
        "Write a Python program that takes a string as input, which contains numbers separated by commas. Convert the string to a list of numbers and determine whether all the numbers are different from each other."
      ],
      "metadata": {
        "id": "rZP_eg_XuKwO"
      }
    },
    {
      "cell_type": "code",
      "source": [],
      "metadata": {
        "id": "Mju8O4-wuuKX"
      },
      "execution_count": null,
      "outputs": []
    },
    {
      "cell_type": "markdown",
      "source": [
        "**Problem 11**\n",
        "\n",
        "Write a Python program that takes a string as input, which contains numbers separated by commas. Convert the string to a list of numbers. Now pick 3 unique numbers from the list whose sum is 100."
      ],
      "metadata": {
        "id": "KgTnX2_eu6l1"
      }
    },
    {
      "cell_type": "code",
      "source": [],
      "metadata": {
        "id": "RzBHYSKpzY6p"
      },
      "execution_count": null,
      "outputs": []
    },
    {
      "cell_type": "markdown",
      "source": [
        "**Problem 12**\n",
        "\n",
        "Write a Python program to get 2 positive numbers as input and multiply them without using the '*' operator."
      ],
      "metadata": {
        "id": "6tRt53BBz25I"
      }
    },
    {
      "cell_type": "code",
      "source": [],
      "metadata": {
        "id": "5WIRg5fw0Fi5"
      },
      "execution_count": null,
      "outputs": []
    },
    {
      "cell_type": "markdown",
      "source": [
        "**Problem 13**\n",
        "\n",
        "Write a python program to print first 10 terms in a Fibonacci series"
      ],
      "metadata": {
        "id": "EnXIYV3B0vEi"
      }
    },
    {
      "cell_type": "code",
      "source": [],
      "metadata": {
        "id": "SXHLhERV0xDG"
      },
      "execution_count": null,
      "outputs": []
    },
    {
      "cell_type": "markdown",
      "source": [
        "**Problem 14**\n",
        "\n",
        "Write a python program which takes a number as input and convert the number to binary. Note: Don't use any builtin functions."
      ],
      "metadata": {
        "id": "UvfmEmtZ6_EW"
      }
    },
    {
      "cell_type": "code",
      "source": [],
      "metadata": {
        "id": "f2YG9RqB7-M9"
      },
      "execution_count": null,
      "outputs": []
    },
    {
      "cell_type": "markdown",
      "source": [
        "**Problem 15**\n",
        "\n",
        "Write a python program which takes a binary number as input and convert the number to decimal. Note: Don't use any builtin functions."
      ],
      "metadata": {
        "id": "mRHDuUD27_E-"
      }
    },
    {
      "cell_type": "code",
      "source": [],
      "metadata": {
        "id": "9jMTZf7e8MHK"
      },
      "execution_count": null,
      "outputs": []
    },
    {
      "cell_type": "markdown",
      "source": [
        "**Problem 16**\n",
        "\n",
        "Write a Python program that asks the user to input a positive integer n and then prints the multiplication table of n up to 12."
      ],
      "metadata": {
        "id": "Pn3i07JVHqEk"
      }
    },
    {
      "cell_type": "code",
      "source": [],
      "metadata": {
        "id": "_VaYfi7lH01X"
      },
      "execution_count": null,
      "outputs": []
    },
    {
      "cell_type": "markdown",
      "source": [
        "**Problem 17**\n",
        "\n",
        "Write a Python program that asks the user to input a positive integer n and then counts and prints the number of digits in n."
      ],
      "metadata": {
        "id": "Uv1TuM37H18U"
      }
    },
    {
      "cell_type": "code",
      "source": [],
      "metadata": {
        "id": "5nZOLEh9H_Cp"
      },
      "execution_count": null,
      "outputs": []
    },
    {
      "cell_type": "markdown",
      "source": [
        "**Problem 18**\n",
        "\n",
        "Write a Python program that asks the user to input a positive integer n and then calculates and prints the sum of its digits."
      ],
      "metadata": {
        "id": "aTrir6SzIUc8"
      }
    },
    {
      "cell_type": "code",
      "source": [],
      "metadata": {
        "id": "F3QXAF4xIWrl"
      },
      "execution_count": null,
      "outputs": []
    },
    {
      "cell_type": "markdown",
      "source": [
        "**Problem 19**\n",
        "\n",
        "Write a Python program that asks the user to input two positive integers a and b, and then calculates and prints the greatest common divisor (GCD) of a and b using a loop."
      ],
      "metadata": {
        "id": "SU0SPQYNIehv"
      }
    },
    {
      "cell_type": "code",
      "source": [],
      "metadata": {
        "id": "BIEkSttXIgzP"
      },
      "execution_count": null,
      "outputs": []
    },
    {
      "cell_type": "markdown",
      "source": [
        "**Problem 20**\n",
        "\n",
        "Write a Python program that asks the user to input a positive integer n and then calculates and prints the sum of the following sequence:\n",
        "\n",
        "1 + 1/2 + 1/3 + ... + 1/n."
      ],
      "metadata": {
        "id": "w63hobswImCa"
      }
    },
    {
      "cell_type": "code",
      "source": [],
      "metadata": {
        "id": "ao5UL82nIoq-"
      },
      "execution_count": null,
      "outputs": []
    },
    {
      "cell_type": "markdown",
      "source": [
        "**Problem 21: Password Strength Checker**\n",
        "\n",
        "Write a Python program that takes a password as input and checks its strength based on the following criteria:\n",
        "\n",
        "\"Strong\" if the password is at least 8 characters long, contains both uppercase and lowercase letters, and includes at least one number and one special character.\n",
        "\"Moderate\" if the password is at least 6 characters long and meets at least two of the above criteria.\n",
        "\"Weak\" if the password does not meet the criteria for \"Strong\" or \"Moderate\"."
      ],
      "metadata": {
        "id": "O2KPhbic8BQA"
      }
    },
    {
      "cell_type": "code",
      "source": [],
      "metadata": {
        "id": "O6gYu4IQ8E_q"
      },
      "execution_count": null,
      "outputs": []
    },
    {
      "cell_type": "markdown",
      "source": [
        "**Problem 22: Implement Bubble Sort**\n",
        "\n",
        "Write a python program that sorts the following list\n",
        "[64, 34, 25, 12, 22, 11, 90]<br/>\n",
        "Please use bubble short<br/>\n",
        "Expected output [11, 12, 22, 25, 34, 64, 90]"
      ],
      "metadata": {
        "id": "sgXRH5iWVgd6"
      }
    },
    {
      "cell_type": "code",
      "source": [],
      "metadata": {
        "id": "z6apazqqV4Xv"
      },
      "execution_count": null,
      "outputs": []
    },
    {
      "cell_type": "markdown",
      "source": [
        "**Problem 23: Count Occurrences of a Character**\n",
        "\n",
        "Write a program that takes a string and a character as input and counts the number of occurrences of that character in the string."
      ],
      "metadata": {
        "id": "buHj-z1I1rpY"
      }
    },
    {
      "cell_type": "code",
      "source": [],
      "metadata": {
        "id": "dmxXZC3y1xvn"
      },
      "execution_count": null,
      "outputs": []
    },
    {
      "cell_type": "markdown",
      "source": [
        "**Problem 24: FizzBuzz**\n",
        "\n",
        "Write a python program that prints the numbers from 1 to 100. For multiples of 3, print “Fizz” instead of the number, and for multiples of 5, print “Buzz”. For numbers that are multiples of both, print “FizzBuzz”."
      ],
      "metadata": {
        "id": "6D-p_ytJ1zWE"
      }
    },
    {
      "cell_type": "code",
      "source": [],
      "metadata": {
        "id": "Z7uqWtse2MfY"
      },
      "execution_count": null,
      "outputs": []
    },
    {
      "cell_type": "markdown",
      "source": [
        "**Problem 25: Count Vowels in a String**\n",
        "\n",
        "Write a program that takes a string as input and counts the number of vowels **(a, e, i, o, u)** in it."
      ],
      "metadata": {
        "id": "IkIgQHXW2iWw"
      }
    },
    {
      "cell_type": "code",
      "source": [],
      "metadata": {
        "id": "M6f8uxdo2tCG"
      },
      "execution_count": null,
      "outputs": []
    }
  ]
}