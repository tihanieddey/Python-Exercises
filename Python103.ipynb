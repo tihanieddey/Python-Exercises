{
  "nbformat": 4,
  "nbformat_minor": 0,
  "metadata": {
    "colab": {
      "provenance": [],
      "include_colab_link": true
    },
    "kernelspec": {
      "name": "python3",
      "display_name": "Python 3"
    },
    "language_info": {
      "name": "python"
    }
  },
  "cells": [
    {
      "cell_type": "markdown",
      "metadata": {
        "id": "view-in-github",
        "colab_type": "text"
      },
      "source": [
        "<a href=\"https://colab.research.google.com/github/tihanieddey/Python-Exercises/blob/main/Python103.ipynb\" target=\"_parent\"><img src=\"https://colab.research.google.com/assets/colab-badge.svg\" alt=\"Open In Colab\"/></a>"
      ]
    },
    {
      "cell_type": "markdown",
      "source": [
        "# This exercise is to test your knowledge in\n",
        "\n",
        "1.   For Loop\n",
        "2.   While Loop\n",
        "\n"
      ],
      "metadata": {
        "id": "sh59bu-cmHQf"
      }
    },
    {
      "cell_type": "markdown",
      "source": [
        "**Problem 1**\n",
        "\n",
        "Print first 10 natural numbers using while loop"
      ],
      "metadata": {
        "id": "NUBr3r3Er9Ub"
      }
    },
    {
      "cell_type": "code",
      "execution_count": null,
      "metadata": {
        "id": "J-YS3jigr6bo",
        "colab": {
          "base_uri": "https://localhost:8080/"
        },
        "outputId": "b611fe3d-ad62-4dc5-fbb3-c445222d03ae"
      },
      "outputs": [
        {
          "output_type": "stream",
          "name": "stdout",
          "text": [
            "1\n",
            "2\n",
            "3\n",
            "4\n",
            "5\n",
            "6\n",
            "7\n",
            "8\n",
            "9\n",
            "10\n"
          ]
        }
      ],
      "source": [
        "n = 1\n",
        "\n",
        "while n <= 10:\n",
        "  print(n)\n",
        "  n += 1"
      ]
    },
    {
      "cell_type": "markdown",
      "source": [
        "**Problem 2**\n",
        "\n",
        "Print first 10 prime numbers using for loop"
      ],
      "metadata": {
        "id": "VSmefGGDsDr0"
      }
    },
    {
      "cell_type": "code",
      "source": [
        "count = 0\n",
        "for n in range(1, 101):\n",
        "  if n == 1:\n",
        "    continue\n",
        "    for i in range(2, (n // 2 + 1)):\n",
        "      if i % n == 0:\n",
        "        break\n",
        "  else:\n",
        "    if count < 10:\n",
        "      print(n)\n",
        "      count += 1\n",
        "    else:\n",
        "      break"
      ],
      "metadata": {
        "id": "xnXhQAK7sMRY",
        "colab": {
          "base_uri": "https://localhost:8080/"
        },
        "outputId": "ee3dd8f2-ac34-4d9f-c217-eea24a36d5a1"
      },
      "execution_count": null,
      "outputs": [
        {
          "output_type": "stream",
          "name": "stdout",
          "text": [
            "2\n",
            "3\n",
            "4\n",
            "5\n",
            "6\n",
            "7\n",
            "8\n",
            "9\n",
            "10\n",
            "11\n"
          ]
        }
      ]
    },
    {
      "cell_type": "markdown",
      "source": [
        "**Problem 3**\n",
        "\n",
        "Get number of items as input and generate that many ADAM Numbers"
      ],
      "metadata": {
        "id": "9TXi2WCNsNTg"
      }
    },
    {
      "cell_type": "code",
      "source": [
        "count = int(input(\"Enter how many Adam numbers you want to generate: \"))\n",
        "\n",
        "i = 0\n",
        "found = 0\n",
        "\n",
        "while found < count:\n",
        "  num = i\n",
        "  rnum = 0\n",
        "  while num > 0:\n",
        "    rnum = (rnum * 10) + num % 10\n",
        "    num //= 10\n",
        "\n",
        "  num2 = i ** 2\n",
        "  rnum2 = rnum ** 2\n",
        "  tnum = rnum2\n",
        "  rrnum = 0\n",
        "\n",
        "  while tnum > 0:\n",
        "    rrnum = (rrnum * 10) + tnum % 10\n",
        "    tnum //= 10\n",
        "\n",
        "  if num2 == rrnum:\n",
        "    print(i)\n",
        "    found += 1\n",
        "\n",
        "  i += 1"
      ],
      "metadata": {
        "id": "F7fhGKvxsRyk",
        "colab": {
          "base_uri": "https://localhost:8080/"
        },
        "outputId": "df24c247-e27e-4952-8941-e62d8261993a"
      },
      "execution_count": null,
      "outputs": [
        {
          "output_type": "stream",
          "name": "stdout",
          "text": [
            "Enter how many Adam numbers you want to generate: 11\n",
            "0\n",
            "1\n",
            "2\n",
            "3\n",
            "11\n",
            "12\n",
            "13\n",
            "21\n",
            "22\n",
            "31\n",
            "101\n"
          ]
        }
      ]
    },
    {
      "cell_type": "markdown",
      "source": [
        "**Problem 4**\n",
        "\n",
        "Get number of items as input and generate that many Armstrong Numbers"
      ],
      "metadata": {
        "id": "1NtR4H83sWRd"
      }
    },
    {
      "cell_type": "code",
      "source": [
        "count = int(input(\"Enter how many Armstrong numbers you want to generate: \"))\n",
        "\n",
        "found = 0\n",
        "num = 0\n",
        "\n",
        "while found < count:\n",
        "  temp = num\n",
        "  pow = len(str(num))\n",
        "  arm = 0\n",
        "\n",
        "  while temp > 0:\n",
        "    digit = temp % 10\n",
        "    arm += digit ** pow\n",
        "    temp //= 10\n",
        "\n",
        "  if num == arm:\n",
        "    print(num)\n",
        "    found += 1\n",
        "\n",
        "  num += 1"
      ],
      "metadata": {
        "id": "kTHyEZhosohS",
        "colab": {
          "base_uri": "https://localhost:8080/"
        },
        "outputId": "a8a36fd3-81a6-433a-e391-47566a9ca6b9"
      },
      "execution_count": null,
      "outputs": [
        {
          "output_type": "stream",
          "name": "stdout",
          "text": [
            "Enter how many Armstrong numbers you want to generate: 18\n",
            "0\n",
            "1\n",
            "2\n",
            "3\n",
            "4\n",
            "5\n",
            "6\n",
            "7\n",
            "8\n",
            "9\n",
            "153\n",
            "370\n",
            "371\n",
            "407\n",
            "1634\n",
            "8208\n",
            "9474\n",
            "54748\n"
          ]
        }
      ]
    },
    {
      "cell_type": "markdown",
      "source": [
        "**Problem 5**\n",
        "\n",
        "Write a program to print the following pattern using a loop.\n",
        "\n",
        "o\n",
        "\n",
        "oo\n",
        "\n",
        "ooo\n",
        "\n",
        "oooo\n",
        "\n",
        "ooooo"
      ],
      "metadata": {
        "id": "YSye6ju2s4Rd"
      }
    },
    {
      "cell_type": "code",
      "source": [
        "for i in range(1, 6):\n",
        "  for j in range(i):\n",
        "    print(\"o\", end=\"\")\n",
        "  print()"
      ],
      "metadata": {
        "id": "UY1ml3TotBI7",
        "colab": {
          "base_uri": "https://localhost:8080/"
        },
        "outputId": "67a63b83-94cb-4128-b583-24c9ce9a91c9"
      },
      "execution_count": null,
      "outputs": [
        {
          "output_type": "stream",
          "name": "stdout",
          "text": [
            "o\n",
            "oo\n",
            "ooo\n",
            "oooo\n",
            "ooooo\n"
          ]
        }
      ]
    },
    {
      "cell_type": "markdown",
      "source": [
        "**Problem 6**\n",
        "\n",
        "Write a program to print the following pattern using a loop\n",
        "\n",
        "1\n",
        "\n",
        "1 2\n",
        "\n",
        "1 2 3\n",
        "\n",
        "1 2 3 4\n",
        "\n",
        "1 2 3 4 5"
      ],
      "metadata": {
        "id": "1SkSXbQbtUEW"
      }
    },
    {
      "cell_type": "code",
      "source": [
        "for i in range(1, 6):\n",
        "  for j in range(1, i + 1):\n",
        "    print(j, end=\" \")\n",
        "  print()"
      ],
      "metadata": {
        "id": "tRDo_Wa7tfpE",
        "colab": {
          "base_uri": "https://localhost:8080/"
        },
        "outputId": "633572f9-e95f-423e-d3a5-c392ed126321"
      },
      "execution_count": null,
      "outputs": [
        {
          "output_type": "stream",
          "name": "stdout",
          "text": [
            "1 \n",
            "1 2 \n",
            "1 2 3 \n",
            "1 2 3 4 \n",
            "1 2 3 4 5 \n"
          ]
        }
      ]
    },
    {
      "cell_type": "markdown",
      "source": [
        "**Problem 7**\n",
        "\n",
        "Get a number as input and calculate the sum of all numbers from 1 to the given number."
      ],
      "metadata": {
        "id": "WWKQLhpptmeb"
      }
    },
    {
      "cell_type": "code",
      "source": [
        "num = int(input(\"Enter a number: \"))\n",
        "\n",
        "count = 1\n",
        "total = 0\n",
        "\n",
        "while count <= num:\n",
        "  total += count\n",
        "  count += 1\n",
        "\n",
        "print(\"Sum\", total)"
      ],
      "metadata": {
        "id": "ps0pUcEDtzkb",
        "colab": {
          "base_uri": "https://localhost:8080/"
        },
        "outputId": "c207affe-2586-4fb8-d1e1-babbc5a9064a"
      },
      "execution_count": null,
      "outputs": [
        {
          "output_type": "stream",
          "name": "stdout",
          "text": [
            "Enter a number: 5\n",
            "Sum 15\n"
          ]
        }
      ]
    },
    {
      "cell_type": "markdown",
      "source": [
        "**Problem 8**\n",
        "\n",
        "Write a python program that takes few numbers as command line argument. Use a loop to display all elements. Use another loop to display all elements in the even position. Use another loop to display all elements in the odd position."
      ],
      "metadata": {
        "id": "S4OA1NOB1EBt"
      }
    },
    {
      "cell_type": "code",
      "source": [
        "%%writefile sum.py\n",
        "\n",
        "import sys\n",
        "\n",
        "numbers = sys.argv[1:]\n",
        "\n",
        "all = [i for i in numbers]\n",
        "print(f\"Printing all elements: \\n{all}\")\n",
        "print(\"Print Even Numbers: \\n\")\n",
        "even = [i for i in numbers if int(i) % 2 == 0]\n",
        "print(even)\n",
        "print(\"Print Odd Numbers: \\n\")\n",
        "odd = [i for i in numbers if int(i) % 2 != 0]\n",
        "print(odd)"
      ],
      "metadata": {
        "id": "3bGUGiBm5Ab-",
        "colab": {
          "base_uri": "https://localhost:8080/"
        },
        "outputId": "293846fb-c7e9-411c-de88-d86fe3a85693"
      },
      "execution_count": null,
      "outputs": [
        {
          "output_type": "stream",
          "name": "stdout",
          "text": [
            "Overwriting sum.py\n"
          ]
        }
      ]
    },
    {
      "cell_type": "code",
      "source": [
        "%run sum.py 24 23 45 46 23 45 68 56 34 23 45 12 13"
      ],
      "metadata": {
        "id": "kXlgjk-maTBS",
        "outputId": "cb4492f0-81de-4592-f35b-1c1881463143",
        "colab": {
          "base_uri": "https://localhost:8080/"
        }
      },
      "execution_count": null,
      "outputs": [
        {
          "output_type": "stream",
          "name": "stdout",
          "text": [
            "Printing all elements: \n",
            "['24', '23', '45', '46', '23', '45', '68', '56', '34', '23', '45', '12', '13']\n",
            "Print Even Numbers: \n",
            "\n",
            "['24', '46', '68', '56', '34', '12']\n",
            "Print Odd Numbers: \n",
            "\n",
            "['23', '45', '23', '45', '23', '45', '13']\n"
          ]
        }
      ]
    },
    {
      "cell_type": "markdown",
      "source": [
        "**Problem 9**\n",
        "\n",
        "Write a python program that takes few numbers as command line argument. Find the average of those numbers."
      ],
      "metadata": {
        "id": "DAgEW9F75Jf2"
      }
    },
    {
      "cell_type": "code",
      "source": [
        "%%writefile average.py\n",
        "\n",
        "import sys\n",
        "\n",
        "numbers = sys.argv[1:]\n",
        "num = 0\n",
        "\n",
        "for i in numbers:\n",
        "  num += int(i)\n",
        "\n",
        "avg = num / len(numbers)\n",
        "\n",
        "print(avg)"
      ],
      "metadata": {
        "id": "p_MV-MR_5Tfi",
        "colab": {
          "base_uri": "https://localhost:8080/"
        },
        "outputId": "7b0bc47c-3928-4515-e4b5-86e1ae503ff4"
      },
      "execution_count": 10,
      "outputs": [
        {
          "output_type": "stream",
          "name": "stdout",
          "text": [
            "Overwriting average.py\n"
          ]
        }
      ]
    },
    {
      "cell_type": "code",
      "source": [
        "%run average.py  1 2 3"
      ],
      "metadata": {
        "id": "reuzJbzTcxKN",
        "outputId": "392877cf-3bf3-4c52-9d08-59f208f50836",
        "colab": {
          "base_uri": "https://localhost:8080/"
        }
      },
      "execution_count": 11,
      "outputs": [
        {
          "output_type": "stream",
          "name": "stdout",
          "text": [
            "2.0\n"
          ]
        }
      ]
    },
    {
      "cell_type": "markdown",
      "source": [
        "**Problem 10**\n",
        "\n",
        "Write a Python program that takes a string as input, which contains numbers separated by commas. Convert the string to a list of numbers and determine whether all the numbers are different from each other."
      ],
      "metadata": {
        "id": "rZP_eg_XuKwO"
      }
    },
    {
      "cell_type": "code",
      "source": [
        "numbers = [int(i) for i in \\\n",
        "     input(\"Enter a list of numbers separated by commas: \").split(',')]\n",
        "\n",
        "found = set()\n",
        "has_dup = False\n",
        "\n",
        "for num in numbers:\n",
        "  if num in found:\n",
        "    has_dup = True\n",
        "    break\n",
        "  else:\n",
        "    found.add(num)\n",
        "\n",
        "if has_dup:\n",
        "  print(\"List of numbers have duplicates\")\n",
        "else:\n",
        "  print(\"List of numbers does not have duplicates\")"
      ],
      "metadata": {
        "id": "Mju8O4-wuuKX",
        "outputId": "382fc371-482f-4118-83ee-bee37f9cf18c",
        "colab": {
          "base_uri": "https://localhost:8080/"
        }
      },
      "execution_count": 13,
      "outputs": [
        {
          "output_type": "stream",
          "name": "stdout",
          "text": [
            "Enter a list of numbers separated by commas: 1,2,3,4,5,6,7,5,3,3\n",
            "List of numbers have duplicates\n"
          ]
        }
      ]
    },
    {
      "cell_type": "markdown",
      "source": [
        "**Problem 11**\n",
        "\n",
        "Write a Python program that takes a string as input, which contains numbers separated by commas. Convert the string to a list of numbers. Now pick 3 unique numbers from the list whose sum is 100."
      ],
      "metadata": {
        "id": "KgTnX2_eu6l1"
      }
    },
    {
      "cell_type": "code",
      "source": [
        "numbers = [int(i) for i in\\\n",
        "           input(\"Enter a list of numbers separated by commas: \").split(',')]\n",
        "\n",
        "found = False\n",
        "count = len(numbers)\n",
        "\n",
        "for i in range(count):\n",
        "  for j in range(i + 1, count):\n",
        "    for k in range(i + 2, count):\n",
        "      if numbers[i] + numbers[j] + numbers[k] == 100:\n",
        "        print(f\"Number {numbers[i]}, {numbers[j]}, {numbers[k]} are unique \" \\\n",
        "         \"from the list whose sum is 100\")\n",
        "        found = True\n",
        "\n",
        "if found == False:\n",
        "  print(\"There are no unique numbers in the list whose sum is 100\")"
      ],
      "metadata": {
        "id": "RzBHYSKpzY6p",
        "outputId": "152188ff-fc5e-4eb3-afcb-938a451cc82f",
        "colab": {
          "base_uri": "https://localhost:8080/"
        }
      },
      "execution_count": 21,
      "outputs": [
        {
          "output_type": "stream",
          "name": "stdout",
          "text": [
            "Enter a list of numbers separated by commas: 25, 30, 45, 20, 50\n",
            "Number 25, 30, 45 are unique from the list whose sum is 100\n",
            "Number 30, 20, 50 are unique from the list whose sum is 100\n",
            "Number 30, 50, 20 are unique from the list whose sum is 100\n"
          ]
        }
      ]
    },
    {
      "cell_type": "markdown",
      "source": [
        "**Problem 12**\n",
        "\n",
        "Write a Python program to get 2 positive numbers as input and multiply them without using the '*' operator."
      ],
      "metadata": {
        "id": "6tRt53BBz25I"
      }
    },
    {
      "cell_type": "code",
      "source": [
        "n1 = int(input(\"Enter first positive number: \"))\n",
        "n2 = int(input(\"Enter second positive number: \"))\n",
        "\n",
        "total = 0\n",
        "for i in range(n2):\n",
        "  total += n1\n",
        "\n",
        "print(\"Product of two numbers are\", total)"
      ],
      "metadata": {
        "id": "5WIRg5fw0Fi5",
        "outputId": "2f5b08b3-da80-444d-f24a-d6b34d183be4",
        "colab": {
          "base_uri": "https://localhost:8080/"
        }
      },
      "execution_count": 23,
      "outputs": [
        {
          "output_type": "stream",
          "name": "stdout",
          "text": [
            "Enter first positive number: 2\n",
            "Enter second positive number: 3\n",
            "Product of two numbers are 6\n"
          ]
        }
      ]
    },
    {
      "cell_type": "markdown",
      "source": [
        "**Problem 13**\n",
        "\n",
        "Write a python program to print first 10 terms in a Fibonacci series"
      ],
      "metadata": {
        "id": "EnXIYV3B0vEi"
      }
    },
    {
      "cell_type": "code",
      "source": [
        "a = 0\n",
        "b = 1\n",
        "\n",
        "print(a)\n",
        "print(b)\n",
        "count = 2\n",
        "\n",
        "while count < 10:\n",
        "  new = a + b\n",
        "  print(new)\n",
        "  a, b = b, new\n",
        "  count += 1"
      ],
      "metadata": {
        "id": "SXHLhERV0xDG",
        "outputId": "4f3c1612-1930-4e40-e836-3126c1dc2abb",
        "colab": {
          "base_uri": "https://localhost:8080/"
        }
      },
      "execution_count": 25,
      "outputs": [
        {
          "output_type": "stream",
          "name": "stdout",
          "text": [
            "0\n",
            "1\n",
            "1\n",
            "2\n",
            "3\n",
            "5\n",
            "8\n",
            "13\n",
            "21\n",
            "34\n"
          ]
        }
      ]
    },
    {
      "cell_type": "markdown",
      "source": [
        "**Problem 14**\n",
        "\n",
        "Write a python program which takes a number as input and convert the number to binary. Note: Don't use any builtin functions."
      ],
      "metadata": {
        "id": "UvfmEmtZ6_EW"
      }
    },
    {
      "cell_type": "code",
      "source": [
        "number = input(\"Enter number you want to convert to binary: \")\n",
        "\n",
        "temp = int(number)\n",
        "result = \"\"\n",
        "\n",
        "if temp == 0:\n",
        "  print(\"Binary for 0 is 0\")\n",
        "else:\n",
        "  while temp > 0:\n",
        "    result = str(temp % 2) + result\n",
        "    temp //= 2\n",
        "\n",
        "print(result)"
      ],
      "metadata": {
        "id": "f2YG9RqB7-M9",
        "outputId": "491018c1-91ae-493f-9c43-19878759c8e2",
        "colab": {
          "base_uri": "https://localhost:8080/"
        }
      },
      "execution_count": 27,
      "outputs": [
        {
          "output_type": "stream",
          "name": "stdout",
          "text": [
            "Enter number you want to convert to binary: 97409\n",
            "10111110010000001\n"
          ]
        }
      ]
    },
    {
      "cell_type": "markdown",
      "source": [
        "**Problem 15**\n",
        "\n",
        "Write a python program which takes a binary number as input and convert the number to decimal. Note: Don't use any builtin functions."
      ],
      "metadata": {
        "id": "mRHDuUD27_E-"
      }
    },
    {
      "cell_type": "code",
      "source": [
        "number = input(\"Enter a binary number you want to convert to decimal: \")\n",
        "\n",
        "temp = int(number)\n",
        "result = 0\n",
        "n = 0\n",
        "\n",
        "if temp == 0:\n",
        "  print(\"Decimal for 0 is 0\")\n",
        "else:\n",
        "  while temp > 0:\n",
        "    result = result + ((2 ** n) * (temp % 10))\n",
        "    temp //= 10\n",
        "    n += 1\n",
        "\n",
        "print(result)"
      ],
      "metadata": {
        "id": "9jMTZf7e8MHK",
        "outputId": "0d58abdb-7494-4293-eff8-5ecc157f44a1",
        "colab": {
          "base_uri": "https://localhost:8080/"
        }
      },
      "execution_count": 35,
      "outputs": [
        {
          "output_type": "stream",
          "name": "stdout",
          "text": [
            "Enter a binary number you want to convert to decimal: 111\n",
            "7\n"
          ]
        }
      ]
    },
    {
      "cell_type": "markdown",
      "source": [
        "**Problem 16**\n",
        "\n",
        "Write a Python program that asks the user to input a positive integer n and then prints the multiplication table of n up to 12."
      ],
      "metadata": {
        "id": "Pn3i07JVHqEk"
      }
    },
    {
      "cell_type": "code",
      "source": [
        "n = int(input(\"Enter a positive number: \"))\n",
        "\n",
        "i = 1\n",
        "\n",
        "print(f\"Multiplication table of {n}\")\n",
        "while i < 13:\n",
        "  print(f\"{n} * {i} = {n * i}\")\n",
        "  i += 1"
      ],
      "metadata": {
        "id": "_VaYfi7lH01X",
        "outputId": "de4e6a60-0c26-450e-f7c5-997882003098",
        "colab": {
          "base_uri": "https://localhost:8080/"
        }
      },
      "execution_count": 36,
      "outputs": [
        {
          "output_type": "stream",
          "name": "stdout",
          "text": [
            "Enter a positive number: 12\n",
            "Multiplication table of 12\n",
            "12 * 1 = 12\n",
            "12 * 2 = 24\n",
            "12 * 3 = 36\n",
            "12 * 4 = 48\n",
            "12 * 5 = 60\n",
            "12 * 6 = 72\n",
            "12 * 7 = 84\n",
            "12 * 8 = 96\n",
            "12 * 9 = 108\n",
            "12 * 10 = 120\n",
            "12 * 11 = 132\n",
            "12 * 12 = 144\n"
          ]
        }
      ]
    },
    {
      "cell_type": "markdown",
      "source": [
        "**Problem 17**\n",
        "\n",
        "Write a Python program that asks the user to input a positive integer n and then counts and prints the number of digits in n."
      ],
      "metadata": {
        "id": "Uv1TuM37H18U"
      }
    },
    {
      "cell_type": "code",
      "source": [
        "n = int(input(\"Enter a positive number: \"))\n",
        "\n",
        "temp = n\n",
        "count = 0\n",
        "\n",
        "while temp > 0:\n",
        "  temp //= 10\n",
        "  count += 1\n",
        "\n",
        "print(f\"Number of digits in {n} is {count}\")"
      ],
      "metadata": {
        "id": "5nZOLEh9H_Cp",
        "outputId": "9a7dcc38-0b1c-4b9a-f31f-97fbcf111a77",
        "colab": {
          "base_uri": "https://localhost:8080/"
        }
      },
      "execution_count": 38,
      "outputs": [
        {
          "output_type": "stream",
          "name": "stdout",
          "text": [
            "Enter a positive number: 123456789\n",
            "Number of digits in 123456789 is 9\n"
          ]
        }
      ]
    },
    {
      "cell_type": "markdown",
      "source": [
        "**Problem 18**\n",
        "\n",
        "Write a Python program that asks the user to input a positive integer n and then calculates and prints the sum of its digits."
      ],
      "metadata": {
        "id": "aTrir6SzIUc8"
      }
    },
    {
      "cell_type": "code",
      "source": [
        "n = int(input(\"Enter a positive number: \"))\n",
        "\n",
        "temp = n\n",
        "sum = 0\n",
        "\n",
        "while temp > 0:\n",
        "  remain = temp % 10\n",
        "  sum += remain\n",
        "  temp //= 10\n",
        "\n",
        "print(f\"Sum of the number's digits are {sum}\")"
      ],
      "metadata": {
        "id": "F3QXAF4xIWrl",
        "outputId": "d325d124-08eb-450d-ed6c-b460bcc199c8",
        "colab": {
          "base_uri": "https://localhost:8080/"
        }
      },
      "execution_count": 39,
      "outputs": [
        {
          "output_type": "stream",
          "name": "stdout",
          "text": [
            "Enter a positive number: 123\n",
            "Sum of the number's digits are 6\n"
          ]
        }
      ]
    },
    {
      "cell_type": "markdown",
      "source": [
        "**Problem 19**\n",
        "\n",
        "Write a Python program that asks the user to input two positive integers a and b, and then calculates and prints the greatest common divisor (GCD) of a and b using a loop."
      ],
      "metadata": {
        "id": "SU0SPQYNIehv"
      }
    },
    {
      "cell_type": "code",
      "source": [
        "a = int(input(\"Enter first number: \"))\n",
        "b = int(input(\"Enter second number: \"))\n",
        "\n",
        "while b != 0:\n",
        "  a, b = b, a % b\n",
        "\n",
        "print(\"Greatest Common Divisor for both number is \", a)"
      ],
      "metadata": {
        "id": "BIEkSttXIgzP",
        "outputId": "6ddc721a-27c0-4c6d-d282-93701707aca2",
        "colab": {
          "base_uri": "https://localhost:8080/"
        }
      },
      "execution_count": 40,
      "outputs": [
        {
          "output_type": "stream",
          "name": "stdout",
          "text": [
            "Enter first number: 14\n",
            "Enter second number: 21\n",
            "Greatest Common Divisor for both number is  7\n"
          ]
        }
      ]
    },
    {
      "cell_type": "markdown",
      "source": [
        "**Problem 20**\n",
        "\n",
        "Write a Python program that asks the user to input a positive integer n and then calculates and prints the sum of the following sequence:\n",
        "\n",
        "1 + 1/2 + 1/3 + ... + 1/n."
      ],
      "metadata": {
        "id": "w63hobswImCa"
      }
    },
    {
      "cell_type": "code",
      "source": [
        "n = int(input(\"Enter a positive number: \"))\n",
        "\n",
        "seq_sum = 0.0\n",
        "i = 1\n",
        "\n",
        "while i < (n + 1):\n",
        "  seq_sum += 1 / i\n",
        "  i += 1\n",
        "\n",
        "print(seq_sum)"
      ],
      "metadata": {
        "id": "ao5UL82nIoq-",
        "outputId": "7feffc6b-0644-4d7f-c752-d2cbad226ba4",
        "colab": {
          "base_uri": "https://localhost:8080/"
        }
      },
      "execution_count": 41,
      "outputs": [
        {
          "output_type": "stream",
          "name": "stdout",
          "text": [
            "Enter a positive number: 5\n",
            "2.283333333333333\n"
          ]
        }
      ]
    },
    {
      "cell_type": "markdown",
      "source": [
        "**Problem 21: Password Strength Checker**\n",
        "\n",
        "Write a Python program that takes a password as input and checks its strength based on the following criteria:\n",
        "\n",
        "\"Strong\" if the password is at least 8 characters long, contains both uppercase and lowercase letters, and includes at least one number and one special character.\n",
        "\"Moderate\" if the password is at least 6 characters long and meets at least two of the above criteria.\n",
        "\"Weak\" if the password does not meet the criteria for \"Strong\" or \"Moderate\"."
      ],
      "metadata": {
        "id": "O2KPhbic8BQA"
      }
    },
    {
      "cell_type": "code",
      "source": [
        "pwd = input(\"Please enter your password: \")"
      ],
      "metadata": {
        "id": "O6gYu4IQ8E_q"
      },
      "execution_count": null,
      "outputs": []
    },
    {
      "cell_type": "markdown",
      "source": [
        "**Problem 22: Implement Bubble Sort**\n",
        "\n",
        "Write a python program that sorts the following list\n",
        "[64, 34, 25, 12, 22, 11, 90]<br/>\n",
        "Please use bubble short<br/>\n",
        "Expected output [11, 12, 22, 25, 34, 64, 90]"
      ],
      "metadata": {
        "id": "sgXRH5iWVgd6"
      }
    },
    {
      "cell_type": "code",
      "source": [],
      "metadata": {
        "id": "z6apazqqV4Xv"
      },
      "execution_count": null,
      "outputs": []
    },
    {
      "cell_type": "markdown",
      "source": [
        "**Problem 23: Count Occurrences of a Character**\n",
        "\n",
        "Write a program that takes a string and a character as input and counts the number of occurrences of that character in the string."
      ],
      "metadata": {
        "id": "buHj-z1I1rpY"
      }
    },
    {
      "cell_type": "code",
      "source": [],
      "metadata": {
        "id": "dmxXZC3y1xvn"
      },
      "execution_count": null,
      "outputs": []
    },
    {
      "cell_type": "markdown",
      "source": [
        "**Problem 24: FizzBuzz**\n",
        "\n",
        "Write a python program that prints the numbers from 1 to 100. For multiples of 3, print “Fizz” instead of the number, and for multiples of 5, print “Buzz”. For numbers that are multiples of both, print “FizzBuzz”."
      ],
      "metadata": {
        "id": "6D-p_ytJ1zWE"
      }
    },
    {
      "cell_type": "code",
      "source": [],
      "metadata": {
        "id": "Z7uqWtse2MfY"
      },
      "execution_count": null,
      "outputs": []
    },
    {
      "cell_type": "markdown",
      "source": [
        "**Problem 25: Count Vowels in a String**\n",
        "\n",
        "Write a program that takes a string as input and counts the number of vowels **(a, e, i, o, u)** in it."
      ],
      "metadata": {
        "id": "IkIgQHXW2iWw"
      }
    },
    {
      "cell_type": "code",
      "source": [],
      "metadata": {
        "id": "M6f8uxdo2tCG"
      },
      "execution_count": null,
      "outputs": []
    }
  ]
}