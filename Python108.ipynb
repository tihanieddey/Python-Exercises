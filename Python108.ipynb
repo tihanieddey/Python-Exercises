{
  "cells": [
    {
      "cell_type": "markdown",
      "metadata": {
        "id": "view-in-github",
        "colab_type": "text"
      },
      "source": [
        "<a href=\"https://colab.research.google.com/github/tihanieddey/Python-Exercises/blob/main/Python108.ipynb\" target=\"_parent\"><img src=\"https://colab.research.google.com/assets/colab-badge.svg\" alt=\"Open In Colab\"/></a>"
      ]
    },
    {
      "cell_type": "markdown",
      "metadata": {
        "id": "WRCtvQLM0pvP"
      },
      "source": [
        "# Salaries Exercise\n",
        "\n",
        "Click [here](https://drive.google.com/file/d/1sfy-5ce3cEtvCvUlOXB_pSwSGjnJ0cVV/view?usp=sharing) to download the file"
      ]
    },
    {
      "cell_type": "markdown",
      "metadata": {
        "id": "moWxpSR90pvQ"
      },
      "source": [
        "**Import pandas as pd**"
      ]
    },
    {
      "cell_type": "code",
      "execution_count": null,
      "metadata": {
        "collapsed": true,
        "id": "OLt7PeYw0pvQ"
      },
      "outputs": [],
      "source": []
    },
    {
      "cell_type": "markdown",
      "metadata": {
        "id": "pvdebdQ70pvR"
      },
      "source": [
        "**Read Salaries.csv as a dataframe called sal**"
      ]
    },
    {
      "cell_type": "code",
      "execution_count": null,
      "metadata": {
        "id": "TeyCD8VY0pvR"
      },
      "outputs": [],
      "source": []
    },
    {
      "cell_type": "markdown",
      "metadata": {
        "id": "LdUmBj8K0pvS"
      },
      "source": [
        "**Check the head of the DataFrame**"
      ]
    },
    {
      "cell_type": "code",
      "execution_count": null,
      "metadata": {
        "id": "WGz0HdJL0pvS"
      },
      "outputs": [],
      "source": []
    },
    {
      "cell_type": "markdown",
      "metadata": {
        "id": "qZa1nFh60pvT"
      },
      "source": [
        "**Use the .info() method to find out how many entries there are**"
      ]
    },
    {
      "cell_type": "code",
      "execution_count": null,
      "metadata": {
        "id": "b0pi7T8P0pvU"
      },
      "outputs": [],
      "source": []
    },
    {
      "cell_type": "markdown",
      "metadata": {
        "id": "PR4CvKm90pvU"
      },
      "source": [
        "**Find the average BasePay ?**\n",
        "\n",
        "Answer: 66325.44884050643"
      ]
    },
    {
      "cell_type": "code",
      "execution_count": null,
      "metadata": {
        "id": "WUCdY4XE0pvU"
      },
      "outputs": [],
      "source": []
    },
    {
      "cell_type": "markdown",
      "metadata": {
        "id": "Z5TC2lO70pvV"
      },
      "source": [
        "**Find is the highest amount of OvertimePay in the dataset ?**\n",
        "\n",
        "Answer: 245131.88"
      ]
    },
    {
      "cell_type": "code",
      "execution_count": null,
      "metadata": {
        "id": "VscSmg7m0pvV"
      },
      "outputs": [],
      "source": []
    },
    {
      "cell_type": "markdown",
      "metadata": {
        "id": "sOHULYfP0pvV"
      },
      "source": [
        "**Find the job title of  JOSEPH DRISCOLL ?**\n",
        "\n",
        "Note: Use all caps, otherwise you may get an answer that doesn't match up (there is also a lowercase Joseph Driscoll)\n",
        "\n",
        "Answer: CAPTAIN, FIRE SUPPRESSION"
      ]
    },
    {
      "cell_type": "code",
      "execution_count": null,
      "metadata": {
        "id": "zT6vgnJb0pvV"
      },
      "outputs": [],
      "source": []
    },
    {
      "cell_type": "markdown",
      "metadata": {
        "id": "kRFFKQ980pvW"
      },
      "source": [
        "**How much does JOSEPH DRISCOLL make (including benefits)?**\n",
        "\n",
        "Answer: 270324.91"
      ]
    },
    {
      "cell_type": "code",
      "execution_count": null,
      "metadata": {
        "id": "BQmti74S0pvX"
      },
      "outputs": [],
      "source": []
    },
    {
      "cell_type": "markdown",
      "metadata": {
        "id": "eGx61AEr0pvX"
      },
      "source": [
        "**What is the name of highest paid person (including benefits) ?**\n",
        "\n",
        "Note: Print the entire row of data as follows\n",
        "\n",
        "Answer:\n",
        "\n",
        "\n",
        "\n",
        "```\n",
        "1 | NATHANIEL FORD | GENERAL MANAGER - METROPOLITAN TRANSIT...\n",
        "```\n",
        "\n",
        "\n"
      ]
    },
    {
      "cell_type": "code",
      "execution_count": null,
      "metadata": {
        "id": "KXmxCgxi0pvX"
      },
      "outputs": [],
      "source": []
    },
    {
      "cell_type": "markdown",
      "metadata": {
        "id": "l37Nydfo0pvX"
      },
      "source": [
        "**What is the name of lowest paid person (including benefits)? Do you notice something strange about how much he or she is paid? If yes put it as a comment inside the given code block**\n",
        "\n",
        "Note: Print the entire row of data as follows\n",
        "\n",
        "Answer:\n",
        "\n",
        "```\n",
        "148654 |\tJoe Lopez\t| Counselor, Log Cabin Ranch...\n",
        "```"
      ]
    },
    {
      "cell_type": "code",
      "execution_count": null,
      "metadata": {
        "id": "9y3ibz8g0pvY"
      },
      "outputs": [],
      "source": []
    },
    {
      "cell_type": "markdown",
      "metadata": {
        "id": "nv72NFTH0pvY"
      },
      "source": [
        "**What was the average (mean) BasePay of all employees per year? (2011-2014) ?**\n",
        "\n",
        "Answer:\n",
        "\n",
        "```\n",
        "Year\n",
        "2011    63595.956517\n",
        "2012    65436.406857\n",
        "2013    69630.030216\n",
        "2014    66564.421924\n",
        "Name: BasePay, dtype: float64\n",
        "```"
      ]
    },
    {
      "cell_type": "code",
      "execution_count": null,
      "metadata": {
        "id": "t-7PUuB80pvY"
      },
      "outputs": [],
      "source": []
    },
    {
      "cell_type": "markdown",
      "metadata": {
        "id": "k9qJOkBt0pvY"
      },
      "source": [
        "**How many unique job titles are there ?**\n",
        "\n",
        "Answer: 2159"
      ]
    },
    {
      "cell_type": "code",
      "execution_count": null,
      "metadata": {
        "id": "ArGJ5HNd0pvZ"
      },
      "outputs": [],
      "source": []
    },
    {
      "cell_type": "markdown",
      "metadata": {
        "id": "dXVM-MXa0pvZ"
      },
      "source": [
        "**What are the top 5 most common jobs ?**\n",
        "\n",
        "Answer:\n",
        "\n",
        "```\n",
        "Transit Operator                7036\n",
        "Special Nurse                   4389\n",
        "Registered Nurse                3736\n",
        "Public Svc Aide-Public Works    2518\n",
        "Police Officer 3                2421\n",
        "Name: JobTitle, dtype: int64\n",
        "```"
      ]
    },
    {
      "cell_type": "code",
      "execution_count": null,
      "metadata": {
        "id": "VKs1mLBy0pvZ"
      },
      "outputs": [],
      "source": []
    },
    {
      "cell_type": "markdown",
      "metadata": {
        "id": "0-B5N60l0pva"
      },
      "source": [
        "**How many Job Titles were represented by only one person in 2013? (e.g. Job Titles with only one occurence in 2013?)**\n",
        "\n",
        "Answer: 202"
      ]
    },
    {
      "cell_type": "code",
      "execution_count": null,
      "metadata": {
        "id": "pT_JROyB0pva"
      },
      "outputs": [],
      "source": []
    },
    {
      "cell_type": "markdown",
      "metadata": {
        "id": "8U7DplUh0pva"
      },
      "source": [
        "**How many people have the word Chief in their job title ?**\n",
        "\n",
        "Note: This is pretty tricky\n",
        "\n",
        "Answer: 477"
      ]
    },
    {
      "cell_type": "code",
      "execution_count": null,
      "metadata": {
        "collapsed": true,
        "id": "Hp28t1fa0pva"
      },
      "outputs": [],
      "source": []
    },
    {
      "cell_type": "markdown",
      "metadata": {
        "id": "JG7NSIHn0pvb"
      },
      "source": [
        "**Is there a correlation between length of the Job Title string and Salary ?**"
      ]
    },
    {
      "cell_type": "code",
      "execution_count": null,
      "metadata": {
        "id": "ykWRCUJH0pvb"
      },
      "outputs": [],
      "source": []
    },
    {
      "cell_type": "markdown",
      "metadata": {
        "id": "WlcBC3hO51_C"
      },
      "source": [
        "# Ecommerce Purchases Exercise\n",
        "\n",
        "Click [here](https://drive.google.com/file/d/1B27xrTYJQEzTwnWNn872yOZUljJ-WlFT/view?usp=sharing) to download the file"
      ]
    },
    {
      "cell_type": "markdown",
      "metadata": {
        "id": "klpDDMBJ6Got"
      },
      "source": [
        "**Import pandas**"
      ]
    },
    {
      "cell_type": "code",
      "execution_count": null,
      "metadata": {
        "collapsed": true,
        "id": "t-UmkH9151_E"
      },
      "outputs": [],
      "source": []
    },
    {
      "cell_type": "markdown",
      "metadata": {
        "id": "PtxVdp4T6N27"
      },
      "source": [
        "**Read in the Ecommerce Purchases csv file and set it to a DataFrame called ecom**"
      ]
    },
    {
      "cell_type": "code",
      "execution_count": null,
      "metadata": {
        "collapsed": true,
        "id": "KFnhgRDM51_E"
      },
      "outputs": [],
      "source": []
    },
    {
      "cell_type": "markdown",
      "metadata": {
        "id": "XTxuJTWD51_E"
      },
      "source": [
        "**Check the head of the DataFrame.**"
      ]
    },
    {
      "cell_type": "code",
      "execution_count": null,
      "metadata": {
        "id": "Yd84VHWT51_F"
      },
      "outputs": [],
      "source": []
    },
    {
      "cell_type": "markdown",
      "metadata": {
        "id": "rTMS5Yum51_F"
      },
      "source": [
        "**How many rows and columns are there ?**\n",
        "\n",
        "Answer\n",
        "\n",
        "```\n",
        "<class 'pandas.core.frame.DataFrame'>\n",
        "RangeIndex: 10000 entries, 0 to 9999\n",
        "Data columns (total 14 columns):\n",
        "Address             10000 non-null object\n",
        "Lot                 10000 non-null object\n",
        "AM or PM            10000 non-null object\n",
        "Browser Info        10000 non-null object\n",
        "Company             10000 non-null object\n",
        "Credit Card         10000 non-null int64\n",
        "CC Exp Date         10000 non-null object\n",
        "CC Security Code    10000 non-null int64\n",
        "CC Provider         10000 non-null object\n",
        "Email               10000 non-null object\n",
        "Job                 10000 non-null object\n",
        "IP Address          10000 non-null object\n",
        "Language            10000 non-null object\n",
        "Purchase Price      10000 non-null float64\n",
        "dtypes: float64(1), int64(2), object(11)\n",
        "memory usage: 1.1+ MB\n",
        "```"
      ]
    },
    {
      "cell_type": "code",
      "execution_count": null,
      "metadata": {
        "id": "hgkJzljc51_F"
      },
      "outputs": [],
      "source": []
    },
    {
      "cell_type": "markdown",
      "metadata": {
        "id": "Fi7acqNy51_G"
      },
      "source": [
        "**What is the average Purchase Price ?**\n",
        "\n",
        "Answer: 50.34730200000025"
      ]
    },
    {
      "cell_type": "code",
      "execution_count": null,
      "metadata": {
        "id": "RaEXL0f551_G"
      },
      "outputs": [],
      "source": []
    },
    {
      "cell_type": "markdown",
      "metadata": {
        "id": "RS4rVH3K51_G"
      },
      "source": [
        "**What were the highest purchase prices ?**\n",
        "\n",
        "Answer: 99.989999999999995"
      ]
    },
    {
      "cell_type": "code",
      "execution_count": null,
      "metadata": {
        "id": "NrnREqyJ51_G"
      },
      "outputs": [],
      "source": []
    },
    {
      "cell_type": "markdown",
      "metadata": {
        "id": "GmWvRUvg8g2F"
      },
      "source": [
        "**What were the lowest purchase prices ?**\n",
        "\n",
        "Answer: 0"
      ]
    },
    {
      "cell_type": "code",
      "execution_count": null,
      "metadata": {
        "id": "f1CR4YP58lim"
      },
      "outputs": [],
      "source": []
    },
    {
      "cell_type": "markdown",
      "metadata": {
        "id": "DyscxoG851_H"
      },
      "source": [
        "**How many people have English 'en' as their Language of choice on the website ?**"
      ]
    },
    {
      "cell_type": "code",
      "execution_count": null,
      "metadata": {
        "id": "j1rkkXg851_H"
      },
      "outputs": [],
      "source": []
    },
    {
      "cell_type": "markdown",
      "metadata": {
        "id": "PzSBurwR51_H"
      },
      "source": [
        "**How many people have the job title of \"Lawyer\" ?**\n"
      ]
    },
    {
      "cell_type": "code",
      "execution_count": null,
      "metadata": {
        "id": "LyntZGuq51_H"
      },
      "outputs": [],
      "source": []
    },
    {
      "cell_type": "markdown",
      "metadata": {
        "id": "vYJPcOwq51_H"
      },
      "source": [
        "**How many people made the purchase during the AM and how many people made the purchase during PM ?**\n",
        "\n",
        "**(Hint: Check out [value_counts()](http://pandas.pydata.org/pandas-docs/stable/generated/pandas.Series.value_counts.html) )**\n",
        "\n",
        "Answer:\n",
        "\n",
        "```\n",
        "PM    5068\n",
        "AM    4932\n",
        "Name: AM or PM, dtype: int64\n",
        "```"
      ]
    },
    {
      "cell_type": "code",
      "execution_count": null,
      "metadata": {
        "id": "drvfRYOC51_H"
      },
      "outputs": [],
      "source": []
    },
    {
      "cell_type": "markdown",
      "metadata": {
        "id": "hIYIC16p51_H"
      },
      "source": [
        "**What are the 5 most common Job Titles ?**\n",
        "\n",
        "Answer:\n",
        "\n",
        "```\n",
        "Interior and spatial designer    31\n",
        "Lawyer                           30\n",
        "Social researcher                28\n",
        "Purchasing manager               27\n",
        "Designer, jewellery              27\n",
        "Name: Job, dtype: int64\n",
        "```\n",
        "\n"
      ]
    },
    {
      "cell_type": "code",
      "execution_count": null,
      "metadata": {
        "id": "rzyNUfT351_I"
      },
      "outputs": [],
      "source": []
    },
    {
      "cell_type": "markdown",
      "metadata": {
        "id": "Y0zr-rEo51_I"
      },
      "source": [
        "**Someone made a purchase that came from Lot: \"90 WT\" , what was the Purchase Price for this transaction ?**\n",
        "\n",
        "Answer:\n",
        "```\n",
        "513    75.1\n",
        "Name: Purchase Price, dtype: float64\n",
        "```\n",
        "\n"
      ]
    },
    {
      "cell_type": "code",
      "execution_count": null,
      "metadata": {
        "id": "jeX46MHL-cQQ"
      },
      "outputs": [],
      "source": []
    },
    {
      "cell_type": "markdown",
      "metadata": {
        "id": "M2wDhmKH51_I"
      },
      "source": [
        "**What is the email of the person with the following Credit Card Number: 4926535242672853**\n",
        "\n",
        "Answer:\n",
        "\n",
        "```\n",
        "1234    bondellen@williams-garza.com\n",
        "Name: Email, dtype: object\n",
        "```\n"
      ]
    },
    {
      "cell_type": "code",
      "execution_count": null,
      "metadata": {
        "id": "7pV49v9w51_I"
      },
      "outputs": [],
      "source": []
    },
    {
      "cell_type": "markdown",
      "metadata": {
        "id": "oBhNtvj251_I"
      },
      "source": [
        "**How many people have American Express as their Credit Card Provider *and* made a purchase above $95 ?**\n",
        "\n",
        "Answer\n",
        "\n",
        "```\n",
        "Address             39\n",
        "Lot                 39\n",
        "AM or PM            39\n",
        "Browser Info        39\n",
        "Company             39\n",
        "Credit Card         39\n",
        "CC Exp Date         39\n",
        "CC Security Code    39\n",
        "CC Provider         39\n",
        "Email               39\n",
        "Job                 39\n",
        "IP Address          39\n",
        "Language            39\n",
        "Purchase Price      39\n",
        "dtype: int64\n",
        "```\n",
        "\n"
      ]
    },
    {
      "cell_type": "code",
      "execution_count": null,
      "metadata": {
        "id": "ZX0G24mL98Rl"
      },
      "outputs": [],
      "source": []
    },
    {
      "cell_type": "markdown",
      "metadata": {
        "id": "C3qSM0p051_I"
      },
      "source": [
        "**Hard: How many people have a credit card that expires in 2025 ?**\n",
        "\n",
        "Answer: 1033"
      ]
    },
    {
      "cell_type": "code",
      "execution_count": null,
      "metadata": {
        "id": "OHnFL1bP51_I"
      },
      "outputs": [],
      "source": []
    },
    {
      "cell_type": "markdown",
      "metadata": {
        "id": "dEuJx14f51_J"
      },
      "source": [
        "**Hard: What are the top 5 most popular email providers/hosts (e.g. gmail.com, yahoo.com, etc...)**\n",
        "\n",
        "Answer:\n",
        "\n",
        "```\n",
        "hotmail.com     1638\n",
        "yahoo.com       1616\n",
        "gmail.com       1605\n",
        "smith.com         42\n",
        "williams.com      37\n",
        "Name: Email, dtype: int64\n",
        "```\n",
        "\n"
      ]
    },
    {
      "cell_type": "code",
      "execution_count": null,
      "metadata": {
        "id": "BWhi4suF51_J"
      },
      "outputs": [],
      "source": []
    }
  ],
  "metadata": {
    "colab": {
      "provenance": [],
      "include_colab_link": true
    },
    "kernelspec": {
      "display_name": "Python 3",
      "language": "python",
      "name": "python3"
    },
    "language_info": {
      "codemirror_mode": {
        "name": "ipython",
        "version": 3
      },
      "file_extension": ".py",
      "mimetype": "text/x-python",
      "name": "python",
      "nbconvert_exporter": "python",
      "pygments_lexer": "ipython3",
      "version": "3.7.4"
    }
  },
  "nbformat": 4,
  "nbformat_minor": 0
}