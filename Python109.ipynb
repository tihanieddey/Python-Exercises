{
  "nbformat": 4,
  "nbformat_minor": 0,
  "metadata": {
    "colab": {
      "provenance": [],
      "include_colab_link": true
    },
    "kernelspec": {
      "name": "python3",
      "display_name": "Python 3"
    },
    "language_info": {
      "name": "python"
    }
  },
  "cells": [
    {
      "cell_type": "markdown",
      "metadata": {
        "id": "view-in-github",
        "colab_type": "text"
      },
      "source": [
        "<a href=\"https://colab.research.google.com/github/tihanieddey/Python-Exercises/blob/main/Python109.ipynb\" target=\"_parent\"><img src=\"https://colab.research.google.com/assets/colab-badge.svg\" alt=\"Open In Colab\"/></a>"
      ]
    },
    {
      "cell_type": "markdown",
      "source": [
        "Import the necessary libraries"
      ],
      "metadata": {
        "id": "oo1OH-9j9hj-"
      }
    },
    {
      "cell_type": "code",
      "execution_count": null,
      "metadata": {
        "id": "zlSKMV0v9aI_"
      },
      "outputs": [],
      "source": []
    },
    {
      "cell_type": "markdown",
      "source": [
        "Download the data from the following URL\n",
        "\n",
        "https://drive.google.com/file/d/1yqoGqDRvv5xbfgkJKmp5nmquKYrdaLfl/view?usp=sharing\n",
        "\n",
        "Read and assign it to a variable called chipo."
      ],
      "metadata": {
        "id": "1u-4-kH-9t52"
      }
    },
    {
      "cell_type": "code",
      "source": [],
      "metadata": {
        "id": "owo20Ikl9xon"
      },
      "execution_count": null,
      "outputs": []
    },
    {
      "cell_type": "markdown",
      "source": [
        "See the first 10 entries"
      ],
      "metadata": {
        "id": "V4tRXHxf-IeK"
      }
    },
    {
      "cell_type": "code",
      "source": [],
      "metadata": {
        "id": "Mh0x07Es-JPm"
      },
      "execution_count": null,
      "outputs": []
    },
    {
      "cell_type": "markdown",
      "source": [
        "What is the number of observations in the dataset ?\n",
        "\n",
        "Answer: 4622"
      ],
      "metadata": {
        "id": "DaonO3GZ-JzN"
      }
    },
    {
      "cell_type": "code",
      "source": [],
      "metadata": {
        "id": "yFy3f3rZ-OQW"
      },
      "execution_count": null,
      "outputs": []
    },
    {
      "cell_type": "markdown",
      "source": [
        "What is the number of columns in the dataset ?\n",
        "\n",
        "Answer: 5"
      ],
      "metadata": {
        "id": "TMjgQNg_-O98"
      }
    },
    {
      "cell_type": "code",
      "source": [],
      "metadata": {
        "id": "uIF02JLk-RNq"
      },
      "execution_count": null,
      "outputs": []
    },
    {
      "cell_type": "markdown",
      "source": [
        "Print the name of all the columns."
      ],
      "metadata": {
        "id": "drzVytQ4-Ta7"
      }
    },
    {
      "cell_type": "code",
      "source": [],
      "metadata": {
        "id": "ocs5akEx-UBo"
      },
      "execution_count": null,
      "outputs": []
    },
    {
      "cell_type": "markdown",
      "source": [
        "How is the dataset indexed ?\n",
        "\n",
        "Answer: RangeIndex(start=0, stop=4622, step=1)"
      ],
      "metadata": {
        "id": "OIflI1dG-Xu3"
      }
    },
    {
      "cell_type": "code",
      "source": [],
      "metadata": {
        "id": "tHvCMD2V-YZR"
      },
      "execution_count": null,
      "outputs": []
    },
    {
      "cell_type": "markdown",
      "source": [
        "Which was the most-ordered item ?\n",
        "\n",
        "Answer: Chicken Bowl"
      ],
      "metadata": {
        "id": "S4l3Ab8z-ahs"
      }
    },
    {
      "cell_type": "code",
      "source": [],
      "metadata": {
        "id": "Tv7FQn7m-bJW"
      },
      "execution_count": null,
      "outputs": []
    },
    {
      "cell_type": "markdown",
      "source": [
        "For the most-ordered item, how many items were ordered ?\n",
        "\n",
        "761"
      ],
      "metadata": {
        "id": "7Py8An-r-gfK"
      }
    },
    {
      "cell_type": "code",
      "source": [],
      "metadata": {
        "id": "LCQXneGV-g3H"
      },
      "execution_count": null,
      "outputs": []
    },
    {
      "cell_type": "markdown",
      "source": [
        "What was the most ordered item in the choice_description column ?\n",
        "\n",
        "Answer: [Diet Coke]"
      ],
      "metadata": {
        "id": "GJVu9YX0-jFw"
      }
    },
    {
      "cell_type": "code",
      "source": [],
      "metadata": {
        "id": "VJ_S7Hu3-jgQ"
      },
      "execution_count": null,
      "outputs": []
    },
    {
      "cell_type": "markdown",
      "source": [
        "How many items were orderd in total ?\n",
        "\n",
        "Answer: 4972"
      ],
      "metadata": {
        "id": "ttiC-fuR-mkv"
      }
    },
    {
      "cell_type": "code",
      "source": [],
      "metadata": {
        "id": "OOWHqkxf-qCq"
      },
      "execution_count": null,
      "outputs": []
    },
    {
      "cell_type": "markdown",
      "source": [
        "Turn the item price into a float"
      ],
      "metadata": {
        "id": "NSXbDPV0-qZj"
      }
    },
    {
      "cell_type": "code",
      "source": [],
      "metadata": {
        "id": "XjUBgtEZ-wWY"
      },
      "execution_count": null,
      "outputs": []
    },
    {
      "cell_type": "markdown",
      "source": [
        "How much was the revenue for the period in the dataset ?\n",
        "\n",
        "Answer: Revenue was: $39237.02"
      ],
      "metadata": {
        "id": "MFE7XknO-w-Z"
      }
    },
    {
      "cell_type": "code",
      "source": [],
      "metadata": {
        "id": "64qxkdj5-z2u"
      },
      "execution_count": null,
      "outputs": []
    },
    {
      "cell_type": "markdown",
      "source": [
        "How many orders were made in the period ?\n",
        "\n",
        "Answer: 1834"
      ],
      "metadata": {
        "id": "ZnXhv7Fq-1x_"
      }
    },
    {
      "cell_type": "code",
      "source": [],
      "metadata": {
        "id": "--UDYOs1-2pP"
      },
      "execution_count": null,
      "outputs": []
    },
    {
      "cell_type": "markdown",
      "source": [
        "What is the average revenue amount per order ?"
      ],
      "metadata": {
        "id": "Z1NIBixv-6D7"
      }
    },
    {
      "cell_type": "code",
      "source": [],
      "metadata": {
        "id": "z9ey-W7a-6tx"
      },
      "execution_count": null,
      "outputs": []
    },
    {
      "cell_type": "markdown",
      "source": [
        "How many different items are sold ?\n",
        "\n",
        "Answer: 50"
      ],
      "metadata": {
        "id": "bEFEevgM-9R3"
      }
    },
    {
      "cell_type": "code",
      "source": [],
      "metadata": {
        "id": "O1HmE0p1-928"
      },
      "execution_count": null,
      "outputs": []
    },
    {
      "cell_type": "markdown",
      "source": [
        "How many products cost more than $10.00 ?\n",
        "\n",
        "1. clean the item_price column and transform it in a float\n",
        "2. reassign the column with the cleaned prices\n",
        "3. delete the duplicates in item_name and quantity\n",
        "4. select only the products with quantity equals to 1\n",
        "\n",
        "Answer: 12"
      ],
      "metadata": {
        "id": "zCGMK56_AHiw"
      }
    },
    {
      "cell_type": "code",
      "source": [],
      "metadata": {
        "id": "mq-7PBJzAIdJ"
      },
      "execution_count": null,
      "outputs": []
    },
    {
      "cell_type": "markdown",
      "source": [
        "What is the price of each item ?\n",
        "\n",
        "1. delete the duplicates in item_name and quantity\n",
        "2. select only the products with quantity equals to 1\n",
        "3. select only the item_name and item_price columns\n",
        "4. sort the values from the most to less expensive"
      ],
      "metadata": {
        "id": "VAL2-kz4AJEo"
      }
    },
    {
      "cell_type": "code",
      "source": [],
      "metadata": {
        "id": "UYRzwL5oAKuL"
      },
      "execution_count": null,
      "outputs": []
    },
    {
      "cell_type": "markdown",
      "source": [
        "Sort by the name of the item"
      ],
      "metadata": {
        "id": "vgF7KMe0ANB9"
      }
    },
    {
      "cell_type": "code",
      "source": [],
      "metadata": {
        "id": "0XyeLYECANWP"
      },
      "execution_count": null,
      "outputs": []
    },
    {
      "cell_type": "markdown",
      "source": [
        "What was the quantity of the most expensive item ordered ?"
      ],
      "metadata": {
        "id": "hP2_jykpAPoA"
      }
    },
    {
      "cell_type": "code",
      "source": [],
      "metadata": {
        "id": "A-epRHWYAP_R"
      },
      "execution_count": null,
      "outputs": []
    },
    {
      "cell_type": "markdown",
      "source": [
        "How many times was a Veggie Salad Bowl ordered ?\n",
        "\n",
        "Answer: 18"
      ],
      "metadata": {
        "id": "kb3VIujBAQ0L"
      }
    },
    {
      "cell_type": "code",
      "source": [],
      "metadata": {
        "id": "d8NeH7MuASfo"
      },
      "execution_count": null,
      "outputs": []
    },
    {
      "cell_type": "markdown",
      "source": [
        "How many times did someone order more than one Canned Soda ?\n",
        "\n",
        "Answer: 20"
      ],
      "metadata": {
        "id": "jhiKhLjCAZ19"
      }
    },
    {
      "cell_type": "code",
      "source": [],
      "metadata": {
        "id": "RX72dOaIAa-_"
      },
      "execution_count": null,
      "outputs": []
    },
    {
      "cell_type": "markdown",
      "source": [
        "Create a histogram of the top 5 items bought"
      ],
      "metadata": {
        "id": "mCEtI1ZeEMfs"
      }
    },
    {
      "cell_type": "code",
      "source": [],
      "metadata": {
        "id": "mhJAgEwjEPOa"
      },
      "execution_count": null,
      "outputs": []
    },
    {
      "cell_type": "markdown",
      "source": [
        "Create a scatterplot with the number of items orderered per order price"
      ],
      "metadata": {
        "id": "oRF02EN_EO3r"
      }
    },
    {
      "cell_type": "code",
      "source": [],
      "metadata": {
        "id": "lDLQNKKqEOTy"
      },
      "execution_count": null,
      "outputs": []
    },
    {
      "cell_type": "markdown",
      "source": [
        "Create a question and a graph to answer your own question."
      ],
      "metadata": {
        "id": "eAL2eMI1EZFc"
      }
    },
    {
      "cell_type": "code",
      "source": [],
      "metadata": {
        "id": "cB3c_kG3EYLx"
      },
      "execution_count": null,
      "outputs": []
    },
    {
      "cell_type": "markdown",
      "source": [
        "Download the data from the following URL\n",
        "\n",
        "https://drive.google.com/file/d/1IliBBnlvWdyqoNHpKsPWRrwynwlp69Sm/view?usp=sharing\n",
        "\n",
        "Read and assign it to a variable called users."
      ],
      "metadata": {
        "id": "phCgJVdUBh8p"
      }
    },
    {
      "cell_type": "code",
      "source": [],
      "metadata": {
        "id": "NcWPBa54BlUL"
      },
      "execution_count": null,
      "outputs": []
    },
    {
      "cell_type": "markdown",
      "source": [
        "Discover what is the mean age per occupation ?"
      ],
      "metadata": {
        "id": "MwQQB2bFBmJE"
      }
    },
    {
      "cell_type": "code",
      "source": [],
      "metadata": {
        "id": "eHw1NckyBpkL"
      },
      "execution_count": null,
      "outputs": []
    },
    {
      "cell_type": "markdown",
      "source": [
        "Discover the Male ratio per occupation and sort it from the most to the least"
      ],
      "metadata": {
        "id": "amvzyTfJBra1"
      }
    },
    {
      "cell_type": "code",
      "source": [],
      "metadata": {
        "id": "U0uviZtBBr_z"
      },
      "execution_count": null,
      "outputs": []
    },
    {
      "cell_type": "markdown",
      "source": [
        "For each occupation, calculate the minimum and maximum ages"
      ],
      "metadata": {
        "id": "kNfnfXuRBtG5"
      }
    },
    {
      "cell_type": "code",
      "source": [],
      "metadata": {
        "id": "aX50Mul2BvTf"
      },
      "execution_count": null,
      "outputs": []
    },
    {
      "cell_type": "markdown",
      "source": [
        "For each combination of occupation and gender, calculate the mean age"
      ],
      "metadata": {
        "id": "W7sy1JfxBv7p"
      }
    },
    {
      "cell_type": "code",
      "source": [],
      "metadata": {
        "id": "8xh9ffXDByO2"
      },
      "execution_count": null,
      "outputs": []
    },
    {
      "cell_type": "markdown",
      "source": [
        "For each occupation present the percentage of women and men"
      ],
      "metadata": {
        "id": "MiEwbUDlB0ae"
      }
    },
    {
      "cell_type": "code",
      "source": [],
      "metadata": {
        "id": "I5fFfdx5B0x0"
      },
      "execution_count": null,
      "outputs": []
    },
    {
      "cell_type": "markdown",
      "source": [
        "Download the data from the following URL\n",
        "\n",
        "https://drive.google.com/file/d/1Nf5qPvISvBubc6e3vpiK7pYn4WOFXzij/view?usp=sharing\n",
        "\n",
        "Read and assign it to a variable called crimes."
      ],
      "metadata": {
        "id": "Ejf2Be7eCIG8"
      }
    },
    {
      "cell_type": "code",
      "source": [],
      "metadata": {
        "id": "igpghWxuCJ7v"
      },
      "execution_count": null,
      "outputs": []
    },
    {
      "cell_type": "markdown",
      "source": [
        "What is the type of the columns ?"
      ],
      "metadata": {
        "id": "jl-ZWhy4CRRI"
      }
    },
    {
      "cell_type": "code",
      "source": [],
      "metadata": {
        "id": "2a7keqd0CULG"
      },
      "execution_count": null,
      "outputs": []
    },
    {
      "cell_type": "markdown",
      "source": [
        "Convert the type of the column Year to datetime64"
      ],
      "metadata": {
        "id": "vpI8pJZvCXcz"
      }
    },
    {
      "cell_type": "code",
      "source": [],
      "metadata": {
        "id": "TFq8VUgCCYL3"
      },
      "execution_count": null,
      "outputs": []
    },
    {
      "cell_type": "markdown",
      "source": [
        "Set the Year column as the index of the dataframe"
      ],
      "metadata": {
        "id": "HioVulX0Cb2j"
      }
    },
    {
      "cell_type": "code",
      "source": [],
      "metadata": {
        "id": "wcsWnaBZCcU-"
      },
      "execution_count": null,
      "outputs": []
    },
    {
      "cell_type": "markdown",
      "source": [
        "Delete the Total column"
      ],
      "metadata": {
        "id": "MPhW-2eZCeoq"
      }
    },
    {
      "cell_type": "code",
      "source": [],
      "metadata": {
        "id": "qmnV4h7uCe-B"
      },
      "execution_count": null,
      "outputs": []
    },
    {
      "cell_type": "markdown",
      "source": [
        "Group the year by decades and sum the values"
      ],
      "metadata": {
        "id": "rDvwvsS6Ch6G"
      }
    },
    {
      "cell_type": "code",
      "source": [],
      "metadata": {
        "id": "-00sFsDaCiTi"
      },
      "execution_count": null,
      "outputs": []
    },
    {
      "cell_type": "markdown",
      "source": [
        "What is the most dangerous decade to live in the US ?"
      ],
      "metadata": {
        "id": "Wi3ewKocCoDv"
      }
    },
    {
      "cell_type": "code",
      "source": [],
      "metadata": {
        "id": "GWpb9ZjrCpjE"
      },
      "execution_count": null,
      "outputs": []
    },
    {
      "cell_type": "markdown",
      "source": [
        "Create 3 differents Series, each of length 100, as follows:\n",
        "\n",
        "1. The first a random number from 1 to 4\n",
        "2. The second a random number from 1 to 3\n",
        "3. The third a random number from 10,000 to 30,000"
      ],
      "metadata": {
        "id": "8unJ5jGQDiCk"
      }
    },
    {
      "cell_type": "code",
      "source": [],
      "metadata": {
        "id": "jvj_jC_pDleT"
      },
      "execution_count": null,
      "outputs": []
    },
    {
      "cell_type": "markdown",
      "source": [
        "Let's create a DataFrame by joinning the Series by column"
      ],
      "metadata": {
        "id": "Zd3U_GFqDpwy"
      }
    },
    {
      "cell_type": "code",
      "source": [],
      "metadata": {
        "id": "IFFGpyXXDqMh"
      },
      "execution_count": null,
      "outputs": []
    },
    {
      "cell_type": "markdown",
      "source": [
        "Change the name of the columns to bedrooms, bathrooms, price_sqr_meter"
      ],
      "metadata": {
        "id": "rPNC3c-dDsiR"
      }
    },
    {
      "cell_type": "code",
      "source": [],
      "metadata": {
        "id": "mrGzwZ9LDvyp"
      },
      "execution_count": null,
      "outputs": []
    },
    {
      "cell_type": "markdown",
      "source": [
        "Create a one column DataFrame with the values of the 3 Series and assign it to 'bigcolumn'"
      ],
      "metadata": {
        "id": "1Ofngvk-D13Y"
      }
    },
    {
      "cell_type": "code",
      "source": [],
      "metadata": {
        "id": "ovvBzbeTD2cn"
      },
      "execution_count": null,
      "outputs": []
    },
    {
      "cell_type": "markdown",
      "source": [
        "Oops, it seems it is going only until index 99. Is it true ?"
      ],
      "metadata": {
        "id": "4Kba_CLgD5UZ"
      }
    },
    {
      "cell_type": "code",
      "source": [],
      "metadata": {
        "id": "UhOqZwyLD6Lu"
      },
      "execution_count": null,
      "outputs": []
    },
    {
      "cell_type": "markdown",
      "source": [
        "Reindex the DataFrame so it goes from 0 to 299"
      ],
      "metadata": {
        "id": "WEO2gEpDD78R"
      }
    },
    {
      "cell_type": "code",
      "source": [],
      "metadata": {
        "id": "csL5SmlvD8h0"
      },
      "execution_count": null,
      "outputs": []
    },
    {
      "cell_type": "markdown",
      "source": [
        "Download the data from the following URL\n",
        "\n",
        "https://drive.google.com/file/d/1skwO4O-iRqns3i2EsGe6LQcxwQX53vTi/view?usp=sharing\n",
        "\n",
        "\n",
        "Read and assign it to a variable called baby_names."
      ],
      "metadata": {
        "id": "ji-0PBzjHDME"
      }
    },
    {
      "cell_type": "code",
      "source": [],
      "metadata": {
        "id": "WJTnjjoLHDyx"
      },
      "execution_count": null,
      "outputs": []
    },
    {
      "cell_type": "markdown",
      "source": [
        "See the first 10 entries"
      ],
      "metadata": {
        "id": "0fcNiLwAZ4P7"
      }
    },
    {
      "cell_type": "code",
      "source": [],
      "metadata": {
        "id": "5oQDhiCEZ5b7"
      },
      "execution_count": null,
      "outputs": []
    },
    {
      "cell_type": "markdown",
      "source": [
        "Delete the column 'Unnamed: 0' and 'Id'"
      ],
      "metadata": {
        "id": "L1Ckj2HhZ-Ty"
      }
    },
    {
      "cell_type": "code",
      "source": [],
      "metadata": {
        "id": "GivayIMGZ-4I"
      },
      "execution_count": null,
      "outputs": []
    },
    {
      "cell_type": "markdown",
      "source": [
        "Is there more male or female names in the dataset ?\n",
        "\n",
        "Answer:\n",
        "1. F    558846\n",
        "2. M    457549"
      ],
      "metadata": {
        "id": "p6-MZpZpaB3-"
      }
    },
    {
      "cell_type": "code",
      "source": [],
      "metadata": {
        "id": "IfmgmiSWaCsT"
      },
      "execution_count": null,
      "outputs": []
    },
    {
      "cell_type": "markdown",
      "source": [
        "Group the dataset by name and assign to names"
      ],
      "metadata": {
        "id": "6zXSshPgaFX5"
      }
    },
    {
      "cell_type": "code",
      "source": [],
      "metadata": {
        "id": "0QV541TJaGAH"
      },
      "execution_count": null,
      "outputs": []
    },
    {
      "cell_type": "markdown",
      "source": [
        "How many different names exist in the dataset ?\n",
        "\n",
        "Answer: 17632"
      ],
      "metadata": {
        "id": "EUa9R3UgaGyF"
      }
    },
    {
      "cell_type": "code",
      "source": [],
      "metadata": {
        "id": "wCRlajQHaJDI"
      },
      "execution_count": null,
      "outputs": []
    },
    {
      "cell_type": "markdown",
      "source": [
        "What is the name with most occurrences ?\n",
        "\n",
        "Answer: 'Jacob'"
      ],
      "metadata": {
        "id": "whytWzVaaM_S"
      }
    },
    {
      "cell_type": "code",
      "source": [],
      "metadata": {
        "id": "-5dohNKgaNsa"
      },
      "execution_count": null,
      "outputs": []
    },
    {
      "cell_type": "markdown",
      "source": [
        "How many different names have the least occurrences ?\n",
        "\n",
        "Answer: 2578"
      ],
      "metadata": {
        "id": "l3Oadn0TaQbT"
      }
    },
    {
      "cell_type": "code",
      "source": [],
      "metadata": {
        "id": "TFqviWIHaRJI"
      },
      "execution_count": null,
      "outputs": []
    },
    {
      "cell_type": "markdown",
      "source": [
        "What is the median name occurrence ?"
      ],
      "metadata": {
        "id": "-lA928AsaTjr"
      }
    },
    {
      "cell_type": "code",
      "source": [],
      "metadata": {
        "id": "7kT7fUnWaUS0"
      },
      "execution_count": null,
      "outputs": []
    },
    {
      "cell_type": "markdown",
      "source": [
        "What is the standard deviation of names ?\n",
        "\n",
        "Answer: 11006.069467891111"
      ],
      "metadata": {
        "id": "B5mSN56NaWuD"
      }
    },
    {
      "cell_type": "code",
      "source": [],
      "metadata": {
        "id": "D3eSqexLaXZz"
      },
      "execution_count": null,
      "outputs": []
    },
    {
      "cell_type": "markdown",
      "source": [
        "Get a summary with the mean, min, max, std and quartiles."
      ],
      "metadata": {
        "id": "H6s-prwPaZ90"
      }
    },
    {
      "cell_type": "code",
      "source": [],
      "metadata": {
        "id": "7N5puS2daas7"
      },
      "execution_count": null,
      "outputs": []
    }
  ]
}