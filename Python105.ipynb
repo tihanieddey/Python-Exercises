{
  "nbformat": 4,
  "nbformat_minor": 0,
  "metadata": {
    "colab": {
      "provenance": [],
      "include_colab_link": true
    },
    "kernelspec": {
      "name": "python3",
      "display_name": "Python 3"
    },
    "language_info": {
      "name": "python"
    }
  },
  "cells": [
    {
      "cell_type": "markdown",
      "metadata": {
        "id": "view-in-github",
        "colab_type": "text"
      },
      "source": [
        "<a href=\"https://colab.research.google.com/github/tihanieddey/Python-Exercises/blob/main/Python105.ipynb\" target=\"_parent\"><img src=\"https://colab.research.google.com/assets/colab-badge.svg\" alt=\"Open In Colab\"/></a>"
      ]
    },
    {
      "cell_type": "markdown",
      "source": [
        "# This exercise is to test your knowledge in\n",
        "\n",
        "1.   Functions\n",
        "2.   Functional Programming\n",
        "3.   Decorators"
      ],
      "metadata": {
        "id": "LBJdjWafAkRG"
      }
    },
    {
      "cell_type": "markdown",
      "source": [
        "**Problem 1**\n",
        "\n",
        "Write a python function that takes a number as parameter and prints the multiplication table of that number"
      ],
      "metadata": {
        "id": "A0Bwrme6fTrE"
      }
    },
    {
      "cell_type": "code",
      "execution_count": null,
      "metadata": {
        "id": "EWkDXgTp_3vD"
      },
      "outputs": [],
      "source": []
    },
    {
      "cell_type": "markdown",
      "source": [
        "**Problem 2**\n",
        "\n",
        "Write a simple python function that returns twin primes less than 1000. If two consecutive odd numbers are both prime then they are known as twin primes.\n",
        "\n",
        "Pairs of primes that differ by 2. For example, 3 and 5, 5 and 7, 11 and 13, and 17 and 19 are twin primes."
      ],
      "metadata": {
        "id": "hHsndVQCfZNT"
      }
    },
    {
      "cell_type": "code",
      "source": [],
      "metadata": {
        "id": "DT9PXLVEAGjQ"
      },
      "execution_count": null,
      "outputs": []
    },
    {
      "cell_type": "markdown",
      "source": [
        "**Problem 3**\n",
        "\n",
        "Write a simple python function that takes a number as parameter and returns  the prime factors of that number. Prime Factorization is finding which prime numbers multiply together to make the original number.\n",
        "\n",
        "Example: prime factors of 56 - 2, 2, 2, 7"
      ],
      "metadata": {
        "id": "IuSDs-t6hN2I"
      }
    },
    {
      "cell_type": "code",
      "source": [],
      "metadata": {
        "id": "gm96Yr9-_6VN"
      },
      "execution_count": null,
      "outputs": []
    },
    {
      "cell_type": "markdown",
      "source": [
        "**Problem 4**\n",
        "\n",
        "Write a function that inputs a number and returns the product of digits of that number."
      ],
      "metadata": {
        "id": "TjZG6aCDiaR8"
      }
    },
    {
      "cell_type": "code",
      "source": [],
      "metadata": {
        "id": "mvt7rb44AD1O"
      },
      "execution_count": null,
      "outputs": []
    },
    {
      "cell_type": "markdown",
      "source": [
        "**Problem 5**\n",
        "\n",
        "Write a function that takes a number as parameter. The function finds the proper divisors of that number and then finds the sum of proper divisors. Proper divisors of a number are those numbers by which the number is divisible, except the number itself.\n",
        "\n",
        "For example proper divisors of 36 are 1, 2, 3, 4, 6, 9, 18"
      ],
      "metadata": {
        "id": "dP39qvGMje7L"
      }
    },
    {
      "cell_type": "code",
      "source": [],
      "metadata": {
        "id": "S29lD5Majy2V"
      },
      "execution_count": null,
      "outputs": []
    },
    {
      "cell_type": "markdown",
      "source": [
        "**Problem 6**\n",
        "\n",
        "A number is called perfect if the sum of proper divisors of that number is equal to the number. For example 28 is perfect number, since 1+2+4+7+14=28. Write a program to print all the perfect numbers in a given range"
      ],
      "metadata": {
        "id": "mcVzyq8lj1Sr"
      }
    },
    {
      "cell_type": "code",
      "source": [],
      "metadata": {
        "id": "pfDuxZAcj--R"
      },
      "execution_count": null,
      "outputs": []
    },
    {
      "cell_type": "markdown",
      "source": [
        "**Problem 7**\n",
        "\n",
        "Write a python function that takes 2 parameters lower and upper (range). Let the function returns pairs of amicable numbers in that range.\n",
        "\n",
        "Two different numbers are called amicable numbers if the sum of the proper divisors of each is equal to the other number. For example 220 and 284 are amicable numbers.\n",
        "\n",
        "For example if we call that function: amicableNumbers(1, 1000)\n",
        "\n",
        "The function must return: **[220, 284]**\n",
        "\n",
        "\n",
        "*Why they are amicable numbers ?*\n",
        "\n",
        "Sum of proper divisors of **220** = 1+2+4+5+10+11+20+22+44+55+110 = **284**\n",
        "\n",
        "Sum of proper divisors of **284** = 1+2+4+71+142 = **220**\n",
        "\n",
        "\n",
        "\n"
      ],
      "metadata": {
        "id": "Wv5N6tzvkMlN"
      }
    },
    {
      "cell_type": "code",
      "source": [],
      "metadata": {
        "id": "402wOy0fk6o9"
      },
      "execution_count": null,
      "outputs": []
    },
    {
      "cell_type": "markdown",
      "source": [
        "**Problem 8**\n",
        "\n",
        "Write a python function that takes variable length parameters and returns maximum and minimum number in the parameter numbers.\n",
        "\n",
        "For example if we call the function: maximumMinimum(10, 20, 30, 40, 50)\n",
        "\n",
        "The function must return: **[10, 50]**"
      ],
      "metadata": {
        "id": "C0KGpzm73ZjE"
      }
    },
    {
      "cell_type": "code",
      "source": [],
      "metadata": {
        "id": "t-24AVom39FU"
      },
      "execution_count": null,
      "outputs": []
    },
    {
      "cell_type": "markdown",
      "source": [
        "**Problem 9**\n",
        "\n",
        "Write a simple Python function that takes a number(n) as a parameter. Then the function prints out the first n rows of Pascal's triangle. Note : Pascal's triangle is an arithmetic and geometric figure first imagined by Blaise Pascal.\n",
        "\n",
        "\n",
        "\n",
        "![pascaltriangle.png](data:image/png;base64,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)"
      ],
      "metadata": {
        "id": "Fz9twS264CYO"
      }
    },
    {
      "cell_type": "code",
      "source": [],
      "metadata": {
        "id": "-wbHovdMom2c"
      },
      "execution_count": null,
      "outputs": []
    },
    {
      "cell_type": "markdown",
      "source": [
        "**Problem 10**\n",
        "\n",
        "Write a simple python function that accepts a hyphen-separated sequence of words as parameter and returns the words in a hyphen-separated sequence after sorting them alphabetically.\n",
        "\n",
        "Sample Items : green-red-yellow-black-white\n",
        "\n",
        "Expected Result : black-green-red-white-yellow"
      ],
      "metadata": {
        "id": "_9cMELSZopF2"
      }
    },
    {
      "cell_type": "code",
      "source": [],
      "metadata": {
        "id": "8YTu76gepE3D"
      },
      "execution_count": null,
      "outputs": []
    },
    {
      "cell_type": "markdown",
      "source": [
        "**Problem 11**\n",
        "\n",
        "Flatten a List of Lists\n",
        "Write a Python program to flatten the given list into a single list using list comprehension.\n",
        "\n",
        "Given list:\n",
        "[[1, 2, 3], [4, 5], [6, 7, 8, 9]]\n",
        "\n",
        "Expected result:\n",
        "[1, 2, 3, 4, 5, 6, 7, 8, 9]\n"
      ],
      "metadata": {
        "id": "Tv5Nit_g92W9"
      }
    },
    {
      "cell_type": "code",
      "source": [],
      "metadata": {
        "id": "QQr-OpRb-MVy"
      },
      "execution_count": null,
      "outputs": []
    },
    {
      "cell_type": "markdown",
      "source": [
        "**Problem 12:**\n",
        "\n",
        "Write a simple python function that accepts a sentence and extract all the vowels from the sentence using list comprehension.\n",
        "\n",
        "Input: \"The quick brown fox jumps over the lazy dog\"\n",
        "\n",
        "Expected Result: ['e', 'u', 'i', 'o', 'o', 'u', 'o', 'e', 'a', 'o']"
      ],
      "metadata": {
        "id": "x512vHWn-QT1"
      }
    },
    {
      "cell_type": "code",
      "source": [],
      "metadata": {
        "id": "JrydN2-f-vvO"
      },
      "execution_count": null,
      "outputs": []
    },
    {
      "cell_type": "markdown",
      "source": [
        "**Problem 13:**\n",
        "\n",
        "Matrix Transposition\n",
        "\n",
        "Write a simple python function that accepts a 3x3 matrix and transpose the matrix using list comprehension.\n",
        "\n",
        "Input:\n",
        "\n",
        "1, 2, 3\n",
        "\n",
        "4, 5, 6\n",
        "\n",
        "7, 8, 9\n",
        "\n",
        "\n",
        "Expected Result:\n",
        "\n",
        "Given matrix: [\n",
        "  [1, 2, 3],\n",
        "  [4, 5, 6],\n",
        "  [7, 8, 9]\n",
        "]\n",
        "\n",
        "Transponsed Matrix: [\n",
        "    [1, 4, 7],\n",
        "    [2, 5, 8],\n",
        "    [3, 6, 9]\n",
        "]"
      ],
      "metadata": {
        "id": "ua7Txnrx-24j"
      }
    },
    {
      "cell_type": "code",
      "source": [],
      "metadata": {
        "id": "C2EqlWj2_H9G"
      },
      "execution_count": null,
      "outputs": []
    },
    {
      "cell_type": "markdown",
      "source": [
        "**Problem 14:**\n",
        "\n",
        "Find Maximum Number\n",
        "\n",
        "Write a simple python function that accepts list of numbers and find the maximum number in a list using the reduce function.\n",
        "\n",
        "Input:\n",
        "3, 5, 2, 8, 1\n",
        "\n",
        "Expected Result: 8\n"
      ],
      "metadata": {
        "id": "gaarl3ez_SFf"
      }
    },
    {
      "cell_type": "code",
      "source": [],
      "metadata": {
        "id": "8fDi5aSDA8BR"
      },
      "execution_count": null,
      "outputs": []
    },
    {
      "cell_type": "markdown",
      "source": [
        "**Problem 15:**\n",
        "\n",
        "Filter Names Starting with a Specific Letter\n",
        "\n",
        "Write a simple python function that accepts list of names and filter out all names that start with the letter 'A' using the filter function.\n",
        "\n",
        "Input: \"Alice\", \"Bob\", \"Anna\", \"Charlie\", \"Annie\"\n",
        "\n",
        "Expected: 'Alice', 'Anna', 'Annie'"
      ],
      "metadata": {
        "id": "VpAT6kWWA_tz"
      }
    },
    {
      "cell_type": "code",
      "source": [],
      "metadata": {
        "id": "KvszZI7lBdrV"
      },
      "execution_count": null,
      "outputs": []
    },
    {
      "cell_type": "markdown",
      "source": [
        "**Problem 16:**\n",
        "\n",
        "Square and Filter Odd Numbers\n",
        "\n",
        "Write a Python program that accepts list of numbers and create a list of squares of odd numbers from a given list of integers using map and filter functions.\n",
        "\n",
        "Input: 1, 2, 3, 4, 5, 6, 7, 8, 9, 10\n",
        "\n",
        "Expected Result: 1, 9, 25, 49, 81"
      ],
      "metadata": {
        "id": "MLQ3NjuCBgfn"
      }
    },
    {
      "cell_type": "code",
      "source": [],
      "metadata": {
        "id": "ISeMQl-OCHrC"
      },
      "execution_count": null,
      "outputs": []
    },
    {
      "cell_type": "markdown",
      "source": [
        "**Problem 17:**\n",
        "\n",
        "Fibonacci Sequence\n",
        "\n",
        "Write a recursive Python function to find the n-th Fibonacci number. The Fibonacci sequence is defined as:\n",
        "\n",
        "1. F(0) = 0\n",
        "2. F(1) = 1\n",
        "3. F(n) = F(n-1) + F(n-2) for n > 1"
      ],
      "metadata": {
        "id": "0efIH4hlCIST"
      }
    },
    {
      "cell_type": "code",
      "source": [],
      "metadata": {
        "id": "Lifz9THJCgXq"
      },
      "execution_count": null,
      "outputs": []
    },
    {
      "cell_type": "markdown",
      "source": [
        "**Problem 18:**\n",
        "\n",
        "Write a recursive Python function to check if a given string is a palindrome (reads the same forwards and backwards).\n",
        "\n",
        "Input: \"radar\"\n",
        "\n",
        "Expected Result: True"
      ],
      "metadata": {
        "id": "YGpZ6-koChFa"
      }
    },
    {
      "cell_type": "code",
      "source": [],
      "metadata": {
        "id": "F-wyTHwxCxYQ"
      },
      "execution_count": null,
      "outputs": []
    },
    {
      "cell_type": "markdown",
      "source": [
        "**Problem 19:**\n",
        "\n",
        "Compose Functions\n",
        "\n",
        "Write a Python function *def compose (f, g)* that takes any two functions f and g as parameter, and returns a *new function h* such that h(x) = f(g(x)).\n",
        "\n",
        "Note: The function f and g are taking single parameter."
      ],
      "metadata": {
        "id": "M6EWsElNCyeq"
      }
    },
    {
      "cell_type": "code",
      "source": [],
      "metadata": {
        "id": "0tfVFUK7Dt_U"
      },
      "execution_count": null,
      "outputs": []
    },
    {
      "cell_type": "markdown",
      "source": [
        "**Problem 20**\n",
        "\n",
        "Implement a decorator called count_calls that keeps track of how many times a function has been called.\n",
        "\n",
        "*Decorator function*\n",
        "\n",
        "def count_calls(func):<br/>\n",
        "&nbsp;&nbsp;&nbsp;&nbsp;Your code here\n",
        "\n",
        "*Function with decorator*\n",
        "\n",
        "@count_calls<br/>\n",
        "def greet(name):<br/>\n",
        "&nbsp;&nbsp;&nbsp;&nbsp;print(f\"Hello, {name}!\")\n",
        "\n",
        "greet(\"Alice\")\n",
        "greet(\"Bob\")\n",
        "\n",
        "Expected Output:\n",
        "\n",
        "Function 'greet' was called 2 times."
      ],
      "metadata": {
        "id": "D1jlYGKPDvBb"
      }
    },
    {
      "cell_type": "code",
      "source": [],
      "metadata": {
        "id": "1OxEp8jKKDLd"
      },
      "execution_count": null,
      "outputs": []
    },
    {
      "cell_type": "markdown",
      "source": [
        "**Problem 21: Shopping Cart**\n",
        "\n",
        "Create a function add_to_cart(item, quantity=1, price_per_item=5) that calculates the total cost for adding an item to a shopping cart. If quantity or price_per_item is not specified, assume default values. Return a dictionary with the item name, quantity, price per item, and total cost. For example:\n",
        "\n",
        "**Input**\n",
        "\n",
        "add_to_cart(\"Apple\")\n",
        "\n",
        "**Output**\n",
        "\n",
        "{\"item\": \"Apple\", \"quantity\": 1, \"price_per_item\": 5, \"total_cost\": 5}\n",
        "\n",
        "**Input**\n",
        "\n",
        "add_to_cart(\"Banana\", 3, 2)\n",
        "\n",
        "**Output**\n",
        "\n",
        "{\"item\": \"Banana\", \"quantity\": 3, \"price_per_item\": 2, \"total_cost\": 6}"
      ],
      "metadata": {
        "id": "pA47lU3f1mFc"
      }
    },
    {
      "cell_type": "code",
      "source": [],
      "metadata": {
        "id": "n2xSi9tn2Yui"
      },
      "execution_count": null,
      "outputs": []
    },
    {
      "cell_type": "markdown",
      "source": [
        "**Problem 22: Flexible Greeting**\n",
        "\n",
        "Define a function\n",
        "\n",
        "*multi_greet(name=\"Friend\", *messages)*\n",
        "\n",
        "that accepts a name and an arbitrary number of greeting messages. If no messages are provided, greet with \"Hello\". Test with and without providing additional greetings."
      ],
      "metadata": {
        "id": "X1UrCjhE2nop"
      }
    },
    {
      "cell_type": "code",
      "source": [],
      "metadata": {
        "id": "mF5F5Tfu2xsE"
      },
      "execution_count": null,
      "outputs": []
    },
    {
      "cell_type": "markdown",
      "source": [
        "**Problem 23: Personal Information**\n",
        "\n",
        "Write a function display_info(**kwargs) that accepts any number of named arguments and returns a formatted string with the person's information. For example:\n",
        "\n",
        "**Input**\n",
        "\n",
        "display_info(name=\"Alice\", age=25, city=\"New York\")\n",
        "\n",
        "**Ouput**\n",
        "\n",
        "\"Name: Alice, Age: 25, City: New York\"\n",
        "\n",
        "**Input**\n",
        "\n",
        "display_info(name=\"Bob\", country=\"USA\")\n",
        "\n",
        "**Output**\n",
        "\n",
        "\"Name: Bob, Country: USA\"\n"
      ],
      "metadata": {
        "id": "S2vOTURq3um0"
      }
    },
    {
      "cell_type": "code",
      "source": [],
      "metadata": {
        "id": "Hdn9eTzV4BQs"
      },
      "execution_count": null,
      "outputs": []
    },
    {
      "cell_type": "markdown",
      "source": [
        "**Problem 24: Build a URL Query**\n",
        "\n",
        "Define a function build_url(base, **params) that builds a URL from a base and a series of query parameters. For example:\n",
        "\n",
        "**Input**\n",
        "\n",
        "build_url(\"https://example.com\", search=\"python\", page=2)\n",
        "\n",
        "**Output**\n",
        "\n",
        "https://example.com?search=python&page=2\n",
        "\n",
        "**Input**\n",
        "\n",
        "build_url(\"https://example.com\")\n",
        "\n",
        "**Output**\n",
        "\n",
        "https://example.com\n"
      ],
      "metadata": {
        "id": "N8erLAYM4j4g"
      }
    },
    {
      "cell_type": "code",
      "source": [],
      "metadata": {
        "id": "ZxiiojzZ4z0I"
      },
      "execution_count": null,
      "outputs": []
    },
    {
      "cell_type": "markdown",
      "source": [
        "**Problem 25: Student Grades**\n",
        "\n",
        "Create a function\n",
        "\n",
        "calculate_grades(student_name, *scores, **details)\n",
        "\n",
        "that calculates the average score for a student. The details dictionary may contain additional information like subject=\"Math\", level=\"Grade 10\". For example:\n",
        "\n",
        "**Input**\n",
        "\n",
        "calculate_grades(\"Alice\", 90, 85, 88, subject=\"Math\", level=\"Grade 10\")\n",
        "\n",
        "**Output**\n",
        "\n",
        "Alice's average in Math (Grade 10): 87.7\n",
        "\n",
        "**Input**\n",
        "\n",
        "calculate_grades(\"Bob\", 70, 65, 80)\n",
        "\n",
        "**Output**\n",
        "Bob's average: 71.7\n"
      ],
      "metadata": {
        "id": "VXjvA5I65Xi6"
      }
    },
    {
      "cell_type": "code",
      "source": [],
      "metadata": {
        "id": "7TmRWbKH5sGr"
      },
      "execution_count": null,
      "outputs": []
    }
  ]
}