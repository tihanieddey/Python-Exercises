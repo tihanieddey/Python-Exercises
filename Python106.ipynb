{
  "nbformat": 4,
  "nbformat_minor": 0,
  "metadata": {
    "colab": {
      "provenance": [],
      "include_colab_link": true
    },
    "kernelspec": {
      "name": "python3",
      "display_name": "Python 3"
    },
    "language_info": {
      "name": "python"
    }
  },
  "cells": [
    {
      "cell_type": "markdown",
      "metadata": {
        "id": "view-in-github",
        "colab_type": "text"
      },
      "source": [
        "<a href=\"https://colab.research.google.com/github/tihanieddey/Python-Exercises/blob/main/python106.ipynb\" target=\"_parent\"><img src=\"https://colab.research.google.com/assets/colab-badge.svg\" alt=\"Open In Colab\"/></a>"
      ]
    },
    {
      "cell_type": "markdown",
      "source": [
        "**Problem 1**\n",
        "\n",
        "A pangram is a sentence using every letter of the alphabet at least once. It is case insensitive, so it doesn't matter if a letter is lower-case (e.g. k) or upper-case (e.g. K).\n",
        "\n",
        "For this exercise, a sentence is a pangram if it contains each of the 26 letters in the English alphabet.\n",
        "\n",
        "Example: The quick brown fox jumps over the lazy dog.\n",
        "\n",
        "*Your task is to figure out if a sentence is a pangram.*"
      ],
      "metadata": {
        "id": "QoMGXk6UXHB9"
      }
    },
    {
      "cell_type": "code",
      "execution_count": null,
      "metadata": {
        "id": "rDS-zDSbXBNK"
      },
      "outputs": [],
      "source": []
    },
    {
      "cell_type": "markdown",
      "source": [
        "**Problem 2**\n",
        "\n",
        "An isogram (also known as a \"non-pattern word\") is a word or phrase without a repeating letter, however spaces and hyphens are allowed to appear multiple times.\n",
        "\n",
        "Examples of isograms:\n",
        "\n",
        "lumberjacks\n",
        "background\n",
        "downstream\n",
        "six-year-old\n",
        "\n",
        "The word isograms, however, is not an isogram, because the s repeats.\n",
        "\n",
        "*Your task is to figure out if the user input is isogram*"
      ],
      "metadata": {
        "id": "nx1PnYYdXomU"
      }
    },
    {
      "cell_type": "code",
      "source": [],
      "metadata": {
        "id": "VygYtSBRXzb7"
      },
      "execution_count": null,
      "outputs": []
    },
    {
      "cell_type": "markdown",
      "source": [
        "**Problem 3**\n",
        "\n",
        "Parse and evaluate simple math word problems returning the answer as an integer.\n",
        "\n",
        "\n",
        "```\n",
        "What is 5?    -> 5\n",
        "What is 5 plus 13?    -> 13\n",
        "What is 7 minus 5?    -> 2\n",
        "What is 6 multiplied by 4?     -> 24\n",
        "What is 25 divided by 5?       -> 5\n",
        "What is 5 plus 13 plus 6?      -> 24\n",
        "What is 3 plus 2 multiplied by 3?       -> 15\n",
        "```"
      ],
      "metadata": {
        "id": "E96wh1LZYk-e"
      }
    },
    {
      "cell_type": "code",
      "source": [],
      "metadata": {
        "id": "7Ah4oxC9ZIro"
      },
      "execution_count": null,
      "outputs": []
    },
    {
      "cell_type": "markdown",
      "source": [
        "**Problem 4**\n",
        "\n",
        "For this exercise, you need to know two things about them:\n",
        "\n",
        "Each resistor has a resistance value.\n",
        "Resistors are small - so small in fact that if you printed the resistance value on them, it would be hard to read.\n",
        "To get around this problem, manufacturers print color-coded bands onto the resistors to denote their resistance values. Each band has a position and a numeric value.\n",
        "\n",
        "The first 2 bands of a resistor have a simple encoding scheme: each color maps to a single number. For example, if they printed a brown band (value 1) followed by a green band (value 5), it would translate to the number 15.\n",
        "\n",
        "In this exercise you are going to create a helpful program so that you don't have to remember the values of the bands. The program will take color names as input and output a two digit number, even if the input is more than two colors!\n",
        "\n",
        "The band colors are encoded as follows:\n",
        "\n",
        "```\n",
        "1.   Black: 0\n",
        "2.   Brown: 1\n",
        "3.   Red: 2\n",
        "4.   Orange: 3\n",
        "5.   Yellow: 4\n",
        "6.   Green: 5\n",
        "7.   Blue: 6\n",
        "8.   Violet: 7\n",
        "9.   Grey: 8\n",
        "10.  White: 9\n",
        "```\n",
        "\n",
        "*From the example above:*\n",
        "\n",
        "brown-green should return 15\n",
        "\n",
        "brown-green-violet should return 15 too, ignoring the third color"
      ],
      "metadata": {
        "id": "hYxixq3Paw83"
      }
    },
    {
      "cell_type": "code",
      "source": [],
      "metadata": {
        "id": "k86PCFlJbLQG"
      },
      "execution_count": null,
      "outputs": []
    },
    {
      "cell_type": "markdown",
      "source": [
        "**Problem 5**\n",
        "\n",
        "*Your task is to Validate Credit Card Number*\n",
        "\n",
        "Given a number determine whether or not it is valid per the Luhn formula.\n",
        "\n",
        "The Luhn algorithm is a simple checksum formula used to validate a variety of identification numbers, such as credit card numbers and Canadian Social Insurance Numbers.\n",
        "\n",
        "The task is to check if a given string is valid\n",
        "\n",
        "Valid credit card number\n",
        "\n",
        "4539 3195 0343 6467\n",
        "\n",
        "The first step of the Luhn algorithm is to double every second digit, starting from the right. We will be doubling\n",
        "\n",
        "4_3_ 3_9_ 0_4_ 6_6_\n",
        "\n",
        "If doubling the number results in a number greater than 9 then subtract 9 from the product. The results of our doubling:\n",
        "\n",
        "8569 6195 0383 3437\n",
        "\n",
        "Then sum all of the digits:\n",
        "\n",
        "8+5+6+9+6+1+9+5+0+3+8+3+3+4+3+7 = 80\n",
        "\n",
        "If the sum is evenly divisible by 10, then the number is valid. This number is valid!"
      ],
      "metadata": {
        "id": "Lobv2LGbbX1D"
      }
    },
    {
      "cell_type": "code",
      "source": [],
      "metadata": {
        "id": "IDuW6CSCy5aE"
      },
      "execution_count": null,
      "outputs": []
    },
    {
      "cell_type": "markdown",
      "source": [
        "**Problem 6**\n",
        "\n",
        "Write a Python class that has two methods: getString and printString , The getString accept a string from the user and printString prints the string in upper case."
      ],
      "metadata": {
        "id": "bHDdXXcjFmCe"
      }
    },
    {
      "cell_type": "code",
      "source": [],
      "metadata": {
        "id": "m63ggCk_FyBB"
      },
      "execution_count": null,
      "outputs": []
    },
    {
      "cell_type": "markdown",
      "source": [
        "**Problem 7**\n",
        "\n",
        "Create a class Temperature that has a property celsius to get and set the temperature in Celsius and another property fahrenheit to get and set the temperature in Fahrenheit. The fahrenheit property should convert the temperature to and from Celsius."
      ],
      "metadata": {
        "id": "5-6cZZTw55Lt"
      }
    },
    {
      "cell_type": "code",
      "source": [],
      "metadata": {
        "id": "pOIhPwFS6CC5"
      },
      "execution_count": null,
      "outputs": []
    },
    {
      "cell_type": "markdown",
      "source": [
        "**Problem 8**\n",
        "\n",
        "Create a class *Book* with attributes title, author, and pages. Ensure that the class constructor requires these attributes. Create multiple instances of Book and display their details.\n",
        "\n",
        "Add a method price that returns the price of the book using a formula pages * 10. Add another method that prints all the details of the book. Create an instance of the Book class and display the details."
      ],
      "metadata": {
        "id": "GeVVh-5p5gTT"
      }
    },
    {
      "cell_type": "code",
      "source": [],
      "metadata": {
        "id": "I3PXkT8j5nCt"
      },
      "execution_count": null,
      "outputs": []
    },
    {
      "cell_type": "markdown",
      "source": [
        "**Problem 9**\n",
        "\n",
        "Write a Python class Employee with properties id, name, salary, and department and methods like \\__init__ calculateSalary, assignDepartment and \\__str__.\n",
        "\n",
        "Sample Employee Data:\n",
        "\n",
        "```\n",
        "\"E7876\", \"ADAMS\", 50000, \"ACCOUNTING\"\n",
        "\"E7499\", \"JONES\", 45000, \"RESEARCH\"\n",
        "\"E7900\", \"MARTIN\", 50000, \"SALES\"\n",
        "\"E7698\", \"SMITH\", 55000, \"OPERATIONS\"\n",
        "```\n",
        "Use 'assignDepartment' method to change the department of an employee.\n",
        "\n",
        "Use '\\__str__' method to print the details of an employee.\n",
        "\n",
        "Use 'calculateSalary' method takes two arguments: salary and hours_worked, which is the number of hours worked by the employee. If the number of hours worked is more than 50, the method computes overtime and adds it to the salary.\n",
        "\n",
        "Overtime is calculated as following formula:\n",
        "overtime = hours_worked - 50\n",
        "Overtime amount = (overtime * (salary / 50))"
      ],
      "metadata": {
        "id": "OwNVg-Wf_slB"
      }
    },
    {
      "cell_type": "code",
      "source": [],
      "metadata": {
        "id": "XdG56X5pAehB"
      },
      "execution_count": null,
      "outputs": []
    },
    {
      "cell_type": "markdown",
      "source": [
        "**Problem 10**\n",
        "\n",
        "Write a Python class Inventory with attributes like id, productName, availableQuantity and price. Add methods like addItem, updateItem, and checkItem_details.\n",
        "\n",
        "Use a dictionary to store the item details, where the key is the id and the value is a dictionary containing the productName, availableQuantity and price.\n",
        "\n",
        "Sample Data:\n",
        "\n",
        "\n",
        "```\n",
        "{\n",
        "  \"97410\": {\n",
        "    \"name\": \"Television\",\n",
        "    \"availableQuantity\": 20,\n",
        "    \"price\": 1455.99\n",
        "  },\n",
        "  \"97411\": {\n",
        "    \"name\": \"Radio\",\n",
        "    \"availableQuantity\": 32,\n",
        "    \"price\": 654.25\n",
        "  }\n",
        "}\n",
        "```\n",
        "\n",
        "\n"
      ],
      "metadata": {
        "id": "Q2R8aBS9BAlQ"
      }
    },
    {
      "cell_type": "code",
      "source": [],
      "metadata": {
        "id": "2AtN1IClCEUS"
      },
      "execution_count": null,
      "outputs": []
    },
    {
      "cell_type": "markdown",
      "source": [
        "**Problem 11**\n",
        "\n",
        "Write a  Python class BankAccount with attributes like accountNumber, openingBalance, currentBalance dateOfOpening and customerName. Add methods like deposit, withdraw, and checkBalance."
      ],
      "metadata": {
        "id": "v07XqqlWCeF3"
      }
    },
    {
      "cell_type": "code",
      "source": [],
      "metadata": {
        "id": "QumPFVaFEm2N"
      },
      "execution_count": null,
      "outputs": []
    },
    {
      "cell_type": "markdown",
      "source": [
        "**Problem 12**\n",
        "\n",
        "Write a Python class to check the validity of a string of parentheses,\n",
        "\n",
        "```\n",
        "'(', ')', '{', '}', '[' and '].\n",
        "```\n",
        "\n",
        "These brackets must be closed in the correct order,\n",
        "for example\n",
        "\n",
        "```\n",
        "\"()\" and \"()[]{}\" are valid\n",
        "\"[)\", \"({[)]\" and \"{{{\" are invalid.\n",
        "```"
      ],
      "metadata": {
        "id": "KrpUr80GGgI-"
      }
    },
    {
      "cell_type": "code",
      "source": [],
      "metadata": {
        "id": "5NaskGz8GmNJ"
      },
      "execution_count": null,
      "outputs": []
    },
    {
      "cell_type": "markdown",
      "source": [
        "**Problem 13**\n",
        "\n",
        "Create a base class Shape with a method area that returns 0. Then, create two subclasses Circle and Square, each with their own implementation of the area method. The Circle class should take a radius, and the Square class should take a side length. Demonstrate polymorphism by creating a list of shapes and iterating through them to print their areas"
      ],
      "metadata": {
        "id": "jwjRL57P2kGe"
      }
    },
    {
      "cell_type": "code",
      "source": [],
      "metadata": {
        "id": "AtycZXMw2pOa"
      },
      "execution_count": null,
      "outputs": []
    },
    {
      "cell_type": "markdown",
      "source": [
        "**Problem 14**\n",
        "\n",
        "Create a class ComplexNumber that represents a complex number with attributes real and imaginary. Overload the + operator to add two complex numbers and the __str__ method to display the complex number in the form \"a + bi\". Test the addition of two complex numbers."
      ],
      "metadata": {
        "id": "8sLaFxLd2qHX"
      }
    },
    {
      "cell_type": "code",
      "source": [],
      "metadata": {
        "id": "DpiAKuz02zZ_"
      },
      "execution_count": null,
      "outputs": []
    },
    {
      "cell_type": "markdown",
      "source": [
        "**Problem 15**\n",
        "\n",
        "Create a class Engine with an attribute horsepower. Then, create a class Car that has an attribute engine of type Engine. Demonstrate aggregation by creating a Car with a Engine object, and print the car's horsepower. Demonstrate your understanding of Aggregation, Composition and has a relationship in this problem by adding all necessary properties and methods."
      ],
      "metadata": {
        "id": "wiwfjv6f27og"
      }
    },
    {
      "cell_type": "code",
      "source": [],
      "metadata": {
        "id": "JTV5h_Jx3YUY"
      },
      "execution_count": null,
      "outputs": []
    },
    {
      "cell_type": "markdown",
      "source": [
        "**Problem 16**\n",
        "\n",
        "Create a class Time with attributes hours and minutes. Implement the __str__, __add__, and __sub__ magic methods to display the time, add two Time objects, and subtract one Time object from another, respectively. Ensure that the time is displayed in hh:mm format."
      ],
      "metadata": {
        "id": "Yfi1NKVG3dbY"
      }
    },
    {
      "cell_type": "code",
      "source": [],
      "metadata": {
        "id": "jWhJfL2s3kUv"
      },
      "execution_count": null,
      "outputs": []
    },
    {
      "cell_type": "markdown",
      "source": [
        "**Problem 17**\n",
        "\n",
        "Create a custom exception class InsufficientFundsError that inherits from the base Exception class. Use this exception in the BankAccount class created earlier to raise an error when someone tries to withdraw more money than is available in the account.\n",
        "\n",
        "These problems cover a wide range of class-related topics and will help build a strong foundation in object-oriented programming using Python."
      ],
      "metadata": {
        "id": "zzyeegwU3lR-"
      }
    },
    {
      "cell_type": "code",
      "source": [],
      "metadata": {
        "id": "qJ8aEqph3r1U"
      },
      "execution_count": null,
      "outputs": []
    },
    {
      "cell_type": "markdown",
      "source": [
        "**Problem 18**\n",
        "\n",
        "Create a class TemperatureConverter with a static method celsius_to_fahrenheit that converts Celsius to Fahrenheit and another static method fahrenheit_to_celsius that converts Fahrenheit to Celsius. Demonstrate the usage of these methods without creating an instance of the class.\n",
        "\n",
        "Bonus: Add a class method that keeps track of how many conversions have been performed."
      ],
      "metadata": {
        "id": "zkr5vlOR35R4"
      }
    },
    {
      "cell_type": "code",
      "source": [],
      "metadata": {
        "id": "lLr6A2Jf3_r3"
      },
      "execution_count": null,
      "outputs": []
    },
    {
      "cell_type": "markdown",
      "source": [
        "**Problem 19**\n",
        "\n",
        "Create a class BankAccount with a private attribute balance. Add methods to deposit and withdraw money from the account. Ensure that the balance cannot be directly accessed from outside the class but can be modified through the deposit and withdraw methods. Also, add a method get_balance to view the balance."
      ],
      "metadata": {
        "id": "cwbjKzva4Eov"
      }
    },
    {
      "cell_type": "code",
      "source": [],
      "metadata": {
        "id": "f9j_qv1_4Hrc"
      },
      "execution_count": null,
      "outputs": []
    },
    {
      "cell_type": "markdown",
      "source": [
        "**Problem 20**\n",
        "\n",
        "Create a base class Person with attributes name and age, and a method display_info that prints the name and age. Then, create a subclass Student that inherits from Person and adds the attribute student_id. Override the display_info method to also display the student_id. Create an instance of Student and call the display_info method."
      ],
      "metadata": {
        "id": "p3F77PJ-4ImX"
      }
    },
    {
      "cell_type": "code",
      "source": [],
      "metadata": {
        "id": "SwWAhdyp4SJ3"
      },
      "execution_count": null,
      "outputs": []
    },
    {
      "cell_type": "markdown",
      "source": [
        "<b>Problem 21: Track Instances of a Class</b><br/>\n",
        "\n",
        "Write a class Student that tracks the number of students created. Use a class variable student_count to keep track of the count.\n",
        "\n",
        "1. Each time a new Student object is created, increment student_count.\n",
        "2. Add a method total_students() that returns the current count of students."
      ],
      "metadata": {
        "id": "PsbjEM9OIGsH"
      }
    },
    {
      "cell_type": "code",
      "source": [],
      "metadata": {
        "id": "R6rMDCJUIUFs"
      },
      "execution_count": null,
      "outputs": []
    },
    {
      "cell_type": "markdown",
      "source": [
        "<b>Problem 22: Shared Configuration</b>\n",
        "\n",
        "Create a class ServerConfig that holds the server's default configuration using class variables. The class should have the following:\n",
        "\n",
        "1. A class variable default_port set to 8080.\n",
        "2. A class variable default_protocol set to \"http\".\n",
        "3. Methods to get and update these default values."
      ],
      "metadata": {
        "id": "2lCQC1m_IwMD"
      }
    },
    {
      "cell_type": "code",
      "source": [],
      "metadata": {
        "id": "fbC0ewMRI4Ds"
      },
      "execution_count": null,
      "outputs": []
    },
    {
      "cell_type": "markdown",
      "source": [
        "<b>Problem 23: Animal Hierarchy</b><br/>\n",
        "Create a base class Animal with the following:\n",
        "1. A method make_sound() that prints \"Some generic sound\".\n",
        "2. A method move() that prints \"Animal moves\".\n",
        "\n",
        "Create two derived classes:\n",
        "1. Dog: Override make_sound() to print \"Bark\".\n",
        "2. Bird: Override move() to print \"Bird flies\"."
      ],
      "metadata": {
        "id": "apogoC5tJONb"
      }
    },
    {
      "cell_type": "code",
      "source": [],
      "metadata": {
        "id": "XpJOxWYzJds9"
      },
      "execution_count": null,
      "outputs": []
    },
    {
      "cell_type": "markdown",
      "source": [
        "<b>Problem 24: Library System</b>\n",
        "\n",
        "Create a base class Book with:\n",
        "1. Attributes title and author.\n",
        "2. A method display_info() to print the title and author.\n",
        "\n",
        "Create the following derived classes:\n",
        "1. EBook: Adds an attribute file_size (in MB) and overrides display_info() to include file size.\n",
        "2. PrintedBook: Adds an attribute pages and overrides display_info() to include the number of pages."
      ],
      "metadata": {
        "id": "EJKYYOvGJpOL"
      }
    },
    {
      "cell_type": "code",
      "source": [],
      "metadata": {
        "id": "nczt61gAJ3pB"
      },
      "execution_count": null,
      "outputs": []
    },
    {
      "cell_type": "markdown",
      "source": [
        "<b>Problem 25: Smart Home System</b><br/>\n",
        "Create a system for a smart home that involves multiple inheritance to simulate different roles for smart devices. Implement the following classes:\n",
        "\n",
        "1. Appliance (Base Class 1):<br/>\n",
        "<b>a. Attributes:</b><br/>\n",
        "brand (string): Brand of the appliance.<br/>\n",
        "<b>b. Methods:</b><br/>\n",
        "turn_on(): Prints \"The appliance is now ON.\"<br/>\n",
        "turn_off(): Prints \"The appliance is now OFF.\"<br/>\n",
        "\n",
        "2. InternetEnabled (Base Class 2):<br/>\n",
        "<b>a. Attributes:</b><br/>\n",
        "ip_address (string): IP address of the device.<br/>\n",
        "<b>b. Methods:</b><br/>\n",
        "connect_to_internet(): Prints \"Connected to the internet at {ip_address}.\"<br/>\n",
        "disconnect_from_internet(): Prints \"Disconnected from the internet.\"<br/>\n",
        "\n",
        "3. VoiceControlled (Base Class 3):<br/>\n",
        "<b>a. Methods:</b><br/>\n",
        "respond_to_command(command): Responds to the given voice command:<br/>\n",
        "\"Turn on\" -> Calls turn_on().<br/>\n",
        "\"Turn off\" -> Calls turn_off().<br/>\n",
        "Any other command -> Prints \"Unknown command.\"<br/>\n",
        "\n",
        "<b>SmartDevice (Derived Class):</b><br/>\n",
        "\n",
        "1. Inherits from Appliance, InternetEnabled, and VoiceControlled.\n",
        "2. Attributes:<br/>\n",
        "name (string): Name of the smart device.\n",
        "3. Methods:<br/>\n",
        "show_device_status(): Prints the device name, brand, and IP address.<br/>\n",
        "\n",
        "<b>Requirements:</b><br/>\n",
        "1. Create a SmartDevice instance with attributes name, brand, and ip_address.\n",
        "2. Demonstrate:\n",
        "<ul>\n",
        "<li>Turning the device on and off via the respond_to_command() method.</li>\n",
        "<li>Connecting and disconnecting the device from the internet.</li>\n",
        "<li>Showing the device's details using show_device_status().</li>\n",
        "</ul>"
      ],
      "metadata": {
        "id": "W4FcqCDoKh5w"
      }
    },
    {
      "cell_type": "code",
      "source": [],
      "metadata": {
        "id": "rQ0jqcPKLfzI"
      },
      "execution_count": null,
      "outputs": []
    }
  ]
}
